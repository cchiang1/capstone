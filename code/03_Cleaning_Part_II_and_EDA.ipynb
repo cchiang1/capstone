{
 "cells": [
  {
   "cell_type": "markdown",
   "metadata": {},
   "source": [
    "# Imports"
   ]
  },
  {
   "cell_type": "code",
   "execution_count": 1,
   "metadata": {},
   "outputs": [],
   "source": [
    "import pandas as pd\n",
    "import numpy as np\n",
    "import matplotlib.pyplot as plt\n",
    "import seaborn as sns\n",
    "import requests\n",
    "\n",
    "import regex as re\n",
    "from nltk.stem import WordNetLemmatizer\n",
    "from nltk.corpus import stopwords"
   ]
  },
  {
   "cell_type": "markdown",
   "metadata": {},
   "source": [
    "# Read in data"
   ]
  },
  {
   "cell_type": "code",
   "execution_count": 2,
   "metadata": {
    "scrolled": true
   },
   "outputs": [
    {
     "data": {
      "text/html": [
       "<div>\n",
       "<style scoped>\n",
       "    .dataframe tbody tr th:only-of-type {\n",
       "        vertical-align: middle;\n",
       "    }\n",
       "\n",
       "    .dataframe tbody tr th {\n",
       "        vertical-align: top;\n",
       "    }\n",
       "\n",
       "    .dataframe thead th {\n",
       "        text-align: right;\n",
       "    }\n",
       "</style>\n",
       "<table border=\"1\" class=\"dataframe\">\n",
       "  <thead>\n",
       "    <tr style=\"text-align: right;\">\n",
       "      <th></th>\n",
       "      <th>name</th>\n",
       "      <th>mc_slug</th>\n",
       "      <th>metascore</th>\n",
       "      <th>user_score</th>\n",
       "      <th>date_released</th>\n",
       "      <th>summary</th>\n",
       "      <th>genres</th>\n",
       "      <th>rating</th>\n",
       "      <th>api_id</th>\n",
       "      <th>description</th>\n",
       "    </tr>\n",
       "  </thead>\n",
       "  <tbody>\n",
       "    <tr>\n",
       "      <th>0</th>\n",
       "      <td>Mass Effect 2</td>\n",
       "      <td>mass-effect-2</td>\n",
       "      <td>94.0</td>\n",
       "      <td>8.9</td>\n",
       "      <td>Jan 26, 2010</td>\n",
       "      <td>The Mass Effect trilogy is a science fiction a...</td>\n",
       "      <td>{'Action RPG', 'Role-Playing'}</td>\n",
       "      <td>M</td>\n",
       "      <td>4806.0</td>\n",
       "      <td>Mass Effect II is a sequel to Mass Effect one,...</td>\n",
       "    </tr>\n",
       "    <tr>\n",
       "      <th>1</th>\n",
       "      <td>Starcraft II: Wings of Liberty</td>\n",
       "      <td>starcraft-ii-wings-of-liberty</td>\n",
       "      <td>93.0</td>\n",
       "      <td>8.3</td>\n",
       "      <td>Jul 27, 2010</td>\n",
       "      <td>StarCraft II continues the epic saga of the Pr...</td>\n",
       "      <td>{'Strategy', 'Command', 'Sci-Fi', 'Real-Time'}</td>\n",
       "      <td>T</td>\n",
       "      <td>38067.0</td>\n",
       "      <td>StarCraft II: Wings of Liberty is a strategy g...</td>\n",
       "    </tr>\n",
       "    <tr>\n",
       "      <th>2</th>\n",
       "      <td>World of Warcraft: Cataclysm</td>\n",
       "      <td>world-of-warcraft-cataclysm</td>\n",
       "      <td>90.0</td>\n",
       "      <td>5.7</td>\n",
       "      <td>Dec 7, 2010</td>\n",
       "      <td>In Cataclysm, players witness the face of Azer...</td>\n",
       "      <td>{'Massively Multiplayer', 'Massively Multiplay...</td>\n",
       "      <td>T</td>\n",
       "      <td>39685.0</td>\n",
       "      <td>World of Warcraft: Cataclysm is a RPG massivel...</td>\n",
       "    </tr>\n",
       "  </tbody>\n",
       "</table>\n",
       "</div>"
      ],
      "text/plain": [
       "                             name                        mc_slug  metascore  \\\n",
       "0                   Mass Effect 2                  mass-effect-2       94.0   \n",
       "1  Starcraft II: Wings of Liberty  starcraft-ii-wings-of-liberty       93.0   \n",
       "2    World of Warcraft: Cataclysm    world-of-warcraft-cataclysm       90.0   \n",
       "\n",
       "   user_score date_released  \\\n",
       "0         8.9  Jan 26, 2010   \n",
       "1         8.3  Jul 27, 2010   \n",
       "2         5.7   Dec 7, 2010   \n",
       "\n",
       "                                             summary  \\\n",
       "0  The Mass Effect trilogy is a science fiction a...   \n",
       "1  StarCraft II continues the epic saga of the Pr...   \n",
       "2  In Cataclysm, players witness the face of Azer...   \n",
       "\n",
       "                                              genres rating   api_id  \\\n",
       "0                     {'Action RPG', 'Role-Playing'}      M   4806.0   \n",
       "1     {'Strategy', 'Command', 'Sci-Fi', 'Real-Time'}      T  38067.0   \n",
       "2  {'Massively Multiplayer', 'Massively Multiplay...      T  39685.0   \n",
       "\n",
       "                                         description  \n",
       "0  Mass Effect II is a sequel to Mass Effect one,...  \n",
       "1  StarCraft II: Wings of Liberty is a strategy g...  \n",
       "2  World of Warcraft: Cataclysm is a RPG massivel...  "
      ]
     },
     "execution_count": 2,
     "metadata": {},
     "output_type": "execute_result"
    }
   ],
   "source": [
    "games = pd.read_csv('../data/cleaned_games.csv')\n",
    "games.head(3)"
   ]
  },
  {
   "cell_type": "markdown",
   "metadata": {},
   "source": [
    "# Exploratory Data Analysis"
   ]
  },
  {
   "cell_type": "code",
   "execution_count": 3,
   "metadata": {},
   "outputs": [
    {
     "data": {
      "text/plain": [
       "name                0\n",
       "mc_slug             0\n",
       "metascore           7\n",
       "user_score         63\n",
       "date_released       0\n",
       "summary            36\n",
       "genres              2\n",
       "rating           1244\n",
       "api_id             45\n",
       "description        58\n",
       "dtype: int64"
      ]
     },
     "execution_count": 3,
     "metadata": {},
     "output_type": "execute_result"
    }
   ],
   "source": [
    "# Number of missing values in each column\n",
    "# Since almost half of the ratings are missing due them being optional for PC games, \n",
    "# I will not be using them in my recommender system\n",
    "\n",
    "games.isnull().sum()"
   ]
  },
  {
   "cell_type": "markdown",
   "metadata": {},
   "source": [
    "## Missing genres\n",
    "\n",
    "The links to theses games on Metacritic returned a 404 error, so neither the summaries nor genres were scraped. The genres will be filled in with data from the API."
   ]
  },
  {
   "cell_type": "code",
   "execution_count": 4,
   "metadata": {},
   "outputs": [
    {
     "data": {
      "text/html": [
       "<div>\n",
       "<style scoped>\n",
       "    .dataframe tbody tr th:only-of-type {\n",
       "        vertical-align: middle;\n",
       "    }\n",
       "\n",
       "    .dataframe tbody tr th {\n",
       "        vertical-align: top;\n",
       "    }\n",
       "\n",
       "    .dataframe thead th {\n",
       "        text-align: right;\n",
       "    }\n",
       "</style>\n",
       "<table border=\"1\" class=\"dataframe\">\n",
       "  <thead>\n",
       "    <tr style=\"text-align: right;\">\n",
       "      <th></th>\n",
       "      <th>name</th>\n",
       "      <th>mc_slug</th>\n",
       "      <th>metascore</th>\n",
       "      <th>user_score</th>\n",
       "      <th>date_released</th>\n",
       "      <th>summary</th>\n",
       "      <th>genres</th>\n",
       "      <th>rating</th>\n",
       "      <th>api_id</th>\n",
       "      <th>description</th>\n",
       "    </tr>\n",
       "  </thead>\n",
       "  <tbody>\n",
       "    <tr>\n",
       "      <th>989</th>\n",
       "      <td>Memento Mori 2</td>\n",
       "      <td>memento-mori-2</td>\n",
       "      <td>65.0</td>\n",
       "      <td>7.5</td>\n",
       "      <td>May 13, 2014</td>\n",
       "      <td>NaN</td>\n",
       "      <td>NaN</td>\n",
       "      <td>NaN</td>\n",
       "      <td>19515.0</td>\n",
       "      <td>An award winning adventure crime thriller with...</td>\n",
       "    </tr>\n",
       "    <tr>\n",
       "      <th>1655</th>\n",
       "      <td>NightCry</td>\n",
       "      <td>nightcry</td>\n",
       "      <td>46.0</td>\n",
       "      <td>3.0</td>\n",
       "      <td>Mar 28, 2016</td>\n",
       "      <td>NaN</td>\n",
       "      <td>NaN</td>\n",
       "      <td>NaN</td>\n",
       "      <td>17134.0</td>\n",
       "      <td>A calming cruise, an unexpected horror. Welcom...</td>\n",
       "    </tr>\n",
       "  </tbody>\n",
       "</table>\n",
       "</div>"
      ],
      "text/plain": [
       "                name         mc_slug  metascore  user_score date_released  \\\n",
       "989   Memento Mori 2  memento-mori-2       65.0         7.5  May 13, 2014   \n",
       "1655        NightCry        nightcry       46.0         3.0  Mar 28, 2016   \n",
       "\n",
       "     summary genres rating   api_id  \\\n",
       "989      NaN    NaN    NaN  19515.0   \n",
       "1655     NaN    NaN    NaN  17134.0   \n",
       "\n",
       "                                            description  \n",
       "989   An award winning adventure crime thriller with...  \n",
       "1655  A calming cruise, an unexpected horror. Welcom...  "
      ]
     },
     "execution_count": 4,
     "metadata": {},
     "output_type": "execute_result"
    }
   ],
   "source": [
    "# Missing genres\n",
    "games[games['genres'].isnull()]"
   ]
  },
  {
   "cell_type": "code",
   "execution_count": 5,
   "metadata": {},
   "outputs": [],
   "source": [
    "# Function for genres from RAWG API\n",
    "\n",
    "def get_genres(api_id):\n",
    "    url = f\"https://rawg-video-games-database.p.rapidapi.com/games/{int(api_id)}\"\n",
    "    headers = {\n",
    "        'x-rapidapi-host': \"rawg-video-games-database.p.rapidapi.com\",\n",
    "        'x-rapidapi-key': # your api key here\n",
    "    }\n",
    "\n",
    "    res = requests.request('GET', url, headers=headers)\n",
    "    genres = [genre['name'] for genre in res.json()['genres']]\n",
    "    \n",
    "    return str(genres)"
   ]
  },
  {
   "cell_type": "code",
   "execution_count": 6,
   "metadata": {},
   "outputs": [],
   "source": [
    "# Memento Mori 2\n",
    "games.loc[989, 'genres'] = get_genres(games['api_id'][989])\n",
    "\n",
    "# NightCry\n",
    "games.loc[1655, 'genres'] = get_genres(games['api_id'][1655])"
   ]
  },
  {
   "cell_type": "markdown",
   "metadata": {},
   "source": [
    "## Most common genres"
   ]
  },
  {
   "cell_type": "code",
   "execution_count": 7,
   "metadata": {},
   "outputs": [],
   "source": [
    "# List of all the genres in the data\n",
    "genres_list = []\n",
    "\n",
    "for genre in games['genres']:\n",
    "    # Since the genres are strings, need to remove the brackets and quotes before splitting\n",
    "    # it on the comma separating each genre\n",
    "    genres_list += re.sub('[^-,\\w\\s]', '', genre).split(', ')\n",
    "\n",
    "# Unique genres\n",
    "genres = set(genres_list)"
   ]
  },
  {
   "cell_type": "code",
   "execution_count": 8,
   "metadata": {},
   "outputs": [],
   "source": [
    "# Number of games of each genre\n",
    "genre_freq = {genre: genres_list.count(genre) for genre in genres}"
   ]
  },
  {
   "cell_type": "code",
   "execution_count": 9,
   "metadata": {},
   "outputs": [
    {
     "data": {
      "text/plain": [
       "General                 1040\n",
       "Action                   785\n",
       "Strategy                 446\n",
       "Adventure                424\n",
       "Action Adventure         409\n",
       "                        ... \n",
       "Boxing  Martial Arts       1\n",
       "Hunting                    1\n",
       "Rail                       1\n",
       "Stacking                   1\n",
       "Olympic Sports             1\n",
       "Length: 133, dtype: int64"
      ]
     },
     "execution_count": 9,
     "metadata": {},
     "output_type": "execute_result"
    }
   ],
   "source": [
    "# Sort genres in descending order\n",
    "pd.Series(genre_freq).sort_values(ascending=False)"
   ]
  },
  {
   "cell_type": "code",
   "execution_count": 10,
   "metadata": {
    "scrolled": false
   },
   "outputs": [
    {
     "data": {
      "image/png": "[encoded data removed]",
      "text/plain": [
       "<Figure size 576x432 with 1 Axes>"
      ]
     },
     "metadata": {
      "needs_background": "light"
     },
     "output_type": "display_data"
    }
   ],
   "source": [
    "# Bar plot of the top 15 most common video game genres\n",
    "# Metacritic has a tendency to combine two genres into one (ex. Action Adventure) but also include Action\n",
    "# and Adventure as well making it a bit redundant. \n",
    "\n",
    "plt.figure(figsize=(8, 6))\n",
    "sns.set()\n",
    "\n",
    "sns.barplot(x = pd.Series(genre_freq).sort_values(ascending=False)[:15],\n",
    "            y = pd.Series(genre_freq).sort_values(ascending=False).index[:15],\n",
    "            palette = \"GnBu_d\")\n",
    "\n",
    "plt.title('Top 15 Most Common Video Game Genres', fontsize=18)\n",
    "plt.xlabel('Frequency', fontsize=14)\n",
    "plt.yticks(fontsize=14);"
   ]
  },
  {
   "cell_type": "markdown",
   "metadata": {},
   "source": [
    "## Relationship between metascore and user score\n",
    "\n",
    "Although there seems to be a linear relationship between the metascore and user score, you can see that the points are a bit spread out. Highly rated games tended to have a high user score too, however, there are also quite a few games that had a high metascore but very low user score and vice versa."
   ]
  },
  {
   "cell_type": "code",
   "execution_count": 11,
   "metadata": {},
   "outputs": [
    {
     "data": {
      "image/png": "[encoded data removed]",
      "text/plain": [
       "<Figure size 576x432 with 1 Axes>"
      ]
     },
     "metadata": {},
     "output_type": "display_data"
    }
   ],
   "source": [
    "# Scatter plot depicting the relationship between the metascore and user score\n",
    "\n",
    "plt.figure(figsize=(8, 6))\n",
    "\n",
    "sns.scatterplot(games['metascore'], games['user_score'])\n",
    "\n",
    "plt.xlabel('Metascore', fontsize=16)\n",
    "plt.ylabel('User Score', fontsize=16)\n",
    "plt.title('Metascore vs User Score', fontsize=20);"
   ]
  },
  {
   "cell_type": "markdown",
   "metadata": {},
   "source": [
    "## Missing scores\n",
    "\n",
    "Due to the somewhat linear relationship between metascore and user score, missing metascores will be imputed with the user score and vice versa."
   ]
  },
  {
   "cell_type": "code",
   "execution_count": 12,
   "metadata": {},
   "outputs": [],
   "source": [
    "# Fill missing metascores with user score\n",
    "games['metascore'].fillna(games['user_score'], inplace=True)\n",
    "\n",
    "# Fill missing user scores with metascore\n",
    "games['user_score'].fillna(games['metascore'], inplace=True)"
   ]
  },
  {
   "cell_type": "markdown",
   "metadata": {},
   "source": [
    "## Release dates by month"
   ]
  },
  {
   "cell_type": "code",
   "execution_count": 13,
   "metadata": {},
   "outputs": [],
   "source": [
    "# Convert dates to datetime object\n",
    "games['date_released'] = pd.to_datetime(games['date_released'])"
   ]
  },
  {
   "cell_type": "code",
   "execution_count": 14,
   "metadata": {},
   "outputs": [
    {
     "data": {
      "text/plain": [
       "1     179\n",
       "2     213\n",
       "3     245\n",
       "4     245\n",
       "5     250\n",
       "6     171\n",
       "7     178\n",
       "8     228\n",
       "9     235\n",
       "10    257\n",
       "11    210\n",
       "12    125\n",
       "Name: date_released, dtype: int64"
      ]
     },
     "execution_count": 14,
     "metadata": {},
     "output_type": "execute_result"
    }
   ],
   "source": [
    "# Number of games released between 2010-2020 by month\n",
    "games['date_released'].dt.month.value_counts().sort_index()"
   ]
  },
  {
   "cell_type": "code",
   "execution_count": 15,
   "metadata": {},
   "outputs": [
    {
     "data": {
      "image/png": "[encoded data removed]",
      "text/plain": [
       "<Figure size 720x504 with 1 Axes>"
      ]
     },
     "metadata": {},
     "output_type": "display_data"
    }
   ],
   "source": [
    "# Plot games released by month\n",
    "plt.figure(figsize=(10, 7))\n",
    "sns.set()\n",
    "\n",
    "sns.barplot(x = games['date_released'].dt.month.value_counts().sort_index().index,\n",
    "            y = games['date_released'].dt.month.value_counts().sort_index().values,\n",
    "            palette = \"Oranges\")\n",
    "\n",
    "plt.title('Month of Game Release', fontsize=18)\n",
    "plt.xlabel('Month', fontsize=14)\n",
    "plt.ylabel('Number of Games', fontsize=14)\n",
    "\n",
    "months = ('Jan', 'Feb', 'Mar', 'Apr', 'May', 'Jun', 'Jul', 'Aug', 'Sep', 'Oct', 'Nov', 'Dec')\n",
    "plt.xticks(range(0,12), months, fontsize=14)\n",
    "plt.yticks(fontsize=14);"
   ]
  },
  {
   "cell_type": "markdown",
   "metadata": {},
   "source": [
    "# Choose summary/description to use\n",
    "\n",
    "Pick the longer text between summary and description to use in the model."
   ]
  },
  {
   "cell_type": "code",
   "execution_count": 16,
   "metadata": {},
   "outputs": [],
   "source": [
    "# Function for picking the longer summaries/descriptions\n",
    "\n",
    "def pick_summary_descrip(row):\n",
    "    # If there is no summary, return description\n",
    "    if pd.isnull(row['summary']):\n",
    "        return row['description']\n",
    "    \n",
    "    # If there is no description, return summary\n",
    "    elif pd.isnull(row['description']):\n",
    "        return row['summary']\n",
    "    \n",
    "    # If lengths are equal, return summary\n",
    "    elif len(row['summary'].split()) == len(row['description'].split()):\n",
    "        return row['summary']\n",
    "    \n",
    "    # If summary if longer, return summary\n",
    "    elif len(row['summary'].split()) > len(row['description'].split()):\n",
    "        return row['summary']\n",
    "    \n",
    "    # If description is longer, return description\n",
    "    elif len(row['summary'].split()) < len(row['description'].split()):\n",
    "        return row['description']"
   ]
  },
  {
   "cell_type": "markdown",
   "metadata": {},
   "source": [
    "## Clean summaries\n",
    "\n",
    "Some of the summaries start with the word \"summary\", so before I run the function for choosing the longer text, I need to clean up the summaries by removing \"summary\" from the text."
   ]
  },
  {
   "cell_type": "code",
   "execution_count": 17,
   "metadata": {},
   "outputs": [],
   "source": [
    "# Remove \"summary\" from summaries\n",
    "games['summary'] = games['summary'].map(lambda summary: summary.replace('Summary: ', ''),\n",
    "                         na_action='ignore')"
   ]
  },
  {
   "cell_type": "markdown",
   "metadata": {},
   "source": [
    "## Apply function"
   ]
  },
  {
   "cell_type": "code",
   "execution_count": 18,
   "metadata": {
    "scrolled": false
   },
   "outputs": [],
   "source": [
    "games['model_description'] = games.apply(pick_summary_descrip, axis=1)"
   ]
  },
  {
   "cell_type": "code",
   "execution_count": 19,
   "metadata": {},
   "outputs": [
    {
     "data": {
      "text/html": [
       "<div>\n",
       "<style scoped>\n",
       "    .dataframe tbody tr th:only-of-type {\n",
       "        vertical-align: middle;\n",
       "    }\n",
       "\n",
       "    .dataframe tbody tr th {\n",
       "        vertical-align: top;\n",
       "    }\n",
       "\n",
       "    .dataframe thead th {\n",
       "        text-align: right;\n",
       "    }\n",
       "</style>\n",
       "<table border=\"1\" class=\"dataframe\">\n",
       "  <thead>\n",
       "    <tr style=\"text-align: right;\">\n",
       "      <th></th>\n",
       "      <th>name</th>\n",
       "      <th>mc_slug</th>\n",
       "      <th>metascore</th>\n",
       "      <th>user_score</th>\n",
       "      <th>date_released</th>\n",
       "      <th>summary</th>\n",
       "      <th>genres</th>\n",
       "      <th>rating</th>\n",
       "      <th>api_id</th>\n",
       "      <th>description</th>\n",
       "      <th>model_description</th>\n",
       "    </tr>\n",
       "  </thead>\n",
       "  <tbody>\n",
       "    <tr>\n",
       "      <th>0</th>\n",
       "      <td>Mass Effect 2</td>\n",
       "      <td>mass-effect-2</td>\n",
       "      <td>94.0</td>\n",
       "      <td>8.9</td>\n",
       "      <td>2010-01-26</td>\n",
       "      <td>The Mass Effect trilogy is a science fiction a...</td>\n",
       "      <td>{'Action RPG', 'Role-Playing'}</td>\n",
       "      <td>M</td>\n",
       "      <td>4806.0</td>\n",
       "      <td>Mass Effect II is a sequel to Mass Effect one,...</td>\n",
       "      <td>Mass Effect II is a sequel to Mass Effect one,...</td>\n",
       "    </tr>\n",
       "    <tr>\n",
       "      <th>1</th>\n",
       "      <td>Starcraft II: Wings of Liberty</td>\n",
       "      <td>starcraft-ii-wings-of-liberty</td>\n",
       "      <td>93.0</td>\n",
       "      <td>8.3</td>\n",
       "      <td>2010-07-27</td>\n",
       "      <td>StarCraft II continues the epic saga of the Pr...</td>\n",
       "      <td>{'Strategy', 'Command', 'Sci-Fi', 'Real-Time'}</td>\n",
       "      <td>T</td>\n",
       "      <td>38067.0</td>\n",
       "      <td>StarCraft II: Wings of Liberty is a strategy g...</td>\n",
       "      <td>StarCraft II continues the epic saga of the Pr...</td>\n",
       "    </tr>\n",
       "    <tr>\n",
       "      <th>2</th>\n",
       "      <td>World of Warcraft: Cataclysm</td>\n",
       "      <td>world-of-warcraft-cataclysm</td>\n",
       "      <td>90.0</td>\n",
       "      <td>5.7</td>\n",
       "      <td>2010-12-07</td>\n",
       "      <td>In Cataclysm, players witness the face of Azer...</td>\n",
       "      <td>{'Massively Multiplayer', 'Massively Multiplay...</td>\n",
       "      <td>T</td>\n",
       "      <td>39685.0</td>\n",
       "      <td>World of Warcraft: Cataclysm is a RPG massivel...</td>\n",
       "      <td>In Cataclysm, players witness the face of Azer...</td>\n",
       "    </tr>\n",
       "    <tr>\n",
       "      <th>3</th>\n",
       "      <td>Sid Meier's Civilization V</td>\n",
       "      <td>sid-meiers-civilization-v</td>\n",
       "      <td>90.0</td>\n",
       "      <td>8.0</td>\n",
       "      <td>2010-09-21</td>\n",
       "      <td>With over nine million units sold worldwide, a...</td>\n",
       "      <td>{'Strategy', 'Turn-Based', '4X', 'Historic'}</td>\n",
       "      <td>E10+</td>\n",
       "      <td>13633.0</td>\n",
       "      <td>Real-time strategy genre has always been about...</td>\n",
       "      <td>Real-time strategy genre has always been about...</td>\n",
       "    </tr>\n",
       "    <tr>\n",
       "      <th>4</th>\n",
       "      <td>BioShock 2</td>\n",
       "      <td>bioshock-2</td>\n",
       "      <td>88.0</td>\n",
       "      <td>8.0</td>\n",
       "      <td>2010-02-09</td>\n",
       "      <td>Set approximately 10 years after the events of...</td>\n",
       "      <td>{'First-Person', 'Sci-Fi', 'Shooter', 'Action'...</td>\n",
       "      <td>M</td>\n",
       "      <td>4427.0</td>\n",
       "      <td>The second game returns us to the city of Rapt...</td>\n",
       "      <td>The second game returns us to the city of Rapt...</td>\n",
       "    </tr>\n",
       "  </tbody>\n",
       "</table>\n",
       "</div>"
      ],
      "text/plain": [
       "                             name                        mc_slug  metascore  \\\n",
       "0                   Mass Effect 2                  mass-effect-2       94.0   \n",
       "1  Starcraft II: Wings of Liberty  starcraft-ii-wings-of-liberty       93.0   \n",
       "2    World of Warcraft: Cataclysm    world-of-warcraft-cataclysm       90.0   \n",
       "3      Sid Meier's Civilization V      sid-meiers-civilization-v       90.0   \n",
       "4                      BioShock 2                     bioshock-2       88.0   \n",
       "\n",
       "   user_score date_released  \\\n",
       "0         8.9    2010-01-26   \n",
       "1         8.3    2010-07-27   \n",
       "2         5.7    2010-12-07   \n",
       "3         8.0    2010-09-21   \n",
       "4         8.0    2010-02-09   \n",
       "\n",
       "                                             summary  \\\n",
       "0  The Mass Effect trilogy is a science fiction a...   \n",
       "1  StarCraft II continues the epic saga of the Pr...   \n",
       "2  In Cataclysm, players witness the face of Azer...   \n",
       "3  With over nine million units sold worldwide, a...   \n",
       "4  Set approximately 10 years after the events of...   \n",
       "\n",
       "                                              genres rating   api_id  \\\n",
       "0                     {'Action RPG', 'Role-Playing'}      M   4806.0   \n",
       "1     {'Strategy', 'Command', 'Sci-Fi', 'Real-Time'}      T  38067.0   \n",
       "2  {'Massively Multiplayer', 'Massively Multiplay...      T  39685.0   \n",
       "3       {'Strategy', 'Turn-Based', '4X', 'Historic'}   E10+  13633.0   \n",
       "4  {'First-Person', 'Sci-Fi', 'Shooter', 'Action'...      M   4427.0   \n",
       "\n",
       "                                         description  \\\n",
       "0  Mass Effect II is a sequel to Mass Effect one,...   \n",
       "1  StarCraft II: Wings of Liberty is a strategy g...   \n",
       "2  World of Warcraft: Cataclysm is a RPG massivel...   \n",
       "3  Real-time strategy genre has always been about...   \n",
       "4  The second game returns us to the city of Rapt...   \n",
       "\n",
       "                                   model_description  \n",
       "0  Mass Effect II is a sequel to Mass Effect one,...  \n",
       "1  StarCraft II continues the epic saga of the Pr...  \n",
       "2  In Cataclysm, players witness the face of Azer...  \n",
       "3  Real-time strategy genre has always been about...  \n",
       "4  The second game returns us to the city of Rapt...  "
      ]
     },
     "execution_count": 19,
     "metadata": {},
     "output_type": "execute_result"
    }
   ],
   "source": [
    "games.head()"
   ]
  },
  {
   "cell_type": "markdown",
   "metadata": {},
   "source": [
    "## Replace non-descript descriptions\n",
    "\n",
    "Some of the descriptions from RAWG contain no real details about the game except an overall user rating for the game, the date the game was released, and the platforms on which you can play these games on. These descriptions typically contain the words RAWG or rawger. They will be replaced with the summary from Metacritic."
   ]
  },
  {
   "cell_type": "code",
   "execution_count": 20,
   "metadata": {
    "scrolled": true
   },
   "outputs": [],
   "source": [
    "# Get the indices of all the descriptions that contain RAWG or rawger\n",
    "rawg = games[games['model_description'].str.contains('RAWG') | \n",
    "             games['model_description'].str.contains('rawger')].index"
   ]
  },
  {
   "cell_type": "code",
   "execution_count": 21,
   "metadata": {},
   "outputs": [],
   "source": [
    "# Replace them with the summary if summary is not missing\n",
    "for i in rawg:\n",
    "    if pd.notna(games['summary'][i]):\n",
    "        games.loc[i, 'model_description'] = games['summary'][i]\n",
    "    else:\n",
    "        pass"
   ]
  },
  {
   "cell_type": "markdown",
   "metadata": {},
   "source": [
    "# Clean text for modeling"
   ]
  },
  {
   "cell_type": "markdown",
   "metadata": {},
   "source": [
    "## Genres\n",
    "\n",
    "Tokenize and return only the unique genres."
   ]
  },
  {
   "cell_type": "code",
   "execution_count": 22,
   "metadata": {},
   "outputs": [],
   "source": [
    "# Function for cleaning the genres for modeling\n",
    "\n",
    "def clean_genres(genre):\n",
    "    # Remove quotations and brackets\n",
    "    genres_only = re.sub('[^-\\w\\s]', '', genre)\n",
    "    \n",
    "    # Lowercase and tokenize\n",
    "    lower = genres_only.lower().split(' ')\n",
    "    \n",
    "    # Join the unique words back together as a string\n",
    "    return (' '.join(set(lower)))"
   ]
  },
  {
   "cell_type": "code",
   "execution_count": 23,
   "metadata": {},
   "outputs": [
    {
     "data": {
      "text/html": [
       "<div>\n",
       "<style scoped>\n",
       "    .dataframe tbody tr th:only-of-type {\n",
       "        vertical-align: middle;\n",
       "    }\n",
       "\n",
       "    .dataframe tbody tr th {\n",
       "        vertical-align: top;\n",
       "    }\n",
       "\n",
       "    .dataframe thead th {\n",
       "        text-align: right;\n",
       "    }\n",
       "</style>\n",
       "<table border=\"1\" class=\"dataframe\">\n",
       "  <thead>\n",
       "    <tr style=\"text-align: right;\">\n",
       "      <th></th>\n",
       "      <th>name</th>\n",
       "      <th>mc_slug</th>\n",
       "      <th>metascore</th>\n",
       "      <th>user_score</th>\n",
       "      <th>date_released</th>\n",
       "      <th>summary</th>\n",
       "      <th>genres</th>\n",
       "      <th>rating</th>\n",
       "      <th>api_id</th>\n",
       "      <th>description</th>\n",
       "      <th>model_description</th>\n",
       "      <th>clean_genres</th>\n",
       "    </tr>\n",
       "  </thead>\n",
       "  <tbody>\n",
       "    <tr>\n",
       "      <th>0</th>\n",
       "      <td>Mass Effect 2</td>\n",
       "      <td>mass-effect-2</td>\n",
       "      <td>94.0</td>\n",
       "      <td>8.9</td>\n",
       "      <td>2010-01-26</td>\n",
       "      <td>The Mass Effect trilogy is a science fiction a...</td>\n",
       "      <td>{'Action RPG', 'Role-Playing'}</td>\n",
       "      <td>M</td>\n",
       "      <td>4806.0</td>\n",
       "      <td>Mass Effect II is a sequel to Mass Effect one,...</td>\n",
       "      <td>Mass Effect II is a sequel to Mass Effect one,...</td>\n",
       "      <td>action role-playing rpg</td>\n",
       "    </tr>\n",
       "    <tr>\n",
       "      <th>1</th>\n",
       "      <td>Starcraft II: Wings of Liberty</td>\n",
       "      <td>starcraft-ii-wings-of-liberty</td>\n",
       "      <td>93.0</td>\n",
       "      <td>8.3</td>\n",
       "      <td>2010-07-27</td>\n",
       "      <td>StarCraft II continues the epic saga of the Pr...</td>\n",
       "      <td>{'Strategy', 'Command', 'Sci-Fi', 'Real-Time'}</td>\n",
       "      <td>T</td>\n",
       "      <td>38067.0</td>\n",
       "      <td>StarCraft II: Wings of Liberty is a strategy g...</td>\n",
       "      <td>StarCraft II continues the epic saga of the Pr...</td>\n",
       "      <td>sci-fi strategy command real-time</td>\n",
       "    </tr>\n",
       "  </tbody>\n",
       "</table>\n",
       "</div>"
      ],
      "text/plain": [
       "                             name                        mc_slug  metascore  \\\n",
       "0                   Mass Effect 2                  mass-effect-2       94.0   \n",
       "1  Starcraft II: Wings of Liberty  starcraft-ii-wings-of-liberty       93.0   \n",
       "\n",
       "   user_score date_released  \\\n",
       "0         8.9    2010-01-26   \n",
       "1         8.3    2010-07-27   \n",
       "\n",
       "                                             summary  \\\n",
       "0  The Mass Effect trilogy is a science fiction a...   \n",
       "1  StarCraft II continues the epic saga of the Pr...   \n",
       "\n",
       "                                           genres rating   api_id  \\\n",
       "0                  {'Action RPG', 'Role-Playing'}      M   4806.0   \n",
       "1  {'Strategy', 'Command', 'Sci-Fi', 'Real-Time'}      T  38067.0   \n",
       "\n",
       "                                         description  \\\n",
       "0  Mass Effect II is a sequel to Mass Effect one,...   \n",
       "1  StarCraft II: Wings of Liberty is a strategy g...   \n",
       "\n",
       "                                   model_description  \\\n",
       "0  Mass Effect II is a sequel to Mass Effect one,...   \n",
       "1  StarCraft II continues the epic saga of the Pr...   \n",
       "\n",
       "                        clean_genres  \n",
       "0            action role-playing rpg  \n",
       "1  sci-fi strategy command real-time  "
      ]
     },
     "execution_count": 23,
     "metadata": {},
     "output_type": "execute_result"
    }
   ],
   "source": [
    "# Clean genres\n",
    "games['clean_genres'] = games['genres'].map(clean_genres)\n",
    "games.head(2)"
   ]
  },
  {
   "cell_type": "markdown",
   "metadata": {},
   "source": [
    "## Description\n",
    "\n",
    "For the descriptions, I will be removing any numbers and special characters, tokenizing the leftover text, and removing all stopwords before joining the text back together into a string."
   ]
  },
  {
   "cell_type": "code",
   "execution_count": 24,
   "metadata": {},
   "outputs": [],
   "source": [
    "# Function for cleaning description for modeling\n",
    "\n",
    "def clean_description(text):\n",
    "    # Remove all non-letters\n",
    "    letters_only = re.sub('[^a-zA-Z]', ' ', text)\n",
    "    \n",
    "    # Lowercase and tokenize\n",
    "    words = letters_only.lower().split()\n",
    "    \n",
    "    # Remove stopwords and lemmatize remaining words\n",
    "    stops = set(stopwords.words('english'))\n",
    "    lemmatizer = WordNetLemmatizer()\n",
    "    \n",
    "    meaningful_words = [lemmatizer.lemmatize(w) for w in words if w not in stops]\n",
    "    \n",
    "    # Return the words joined back together as a string\n",
    "    return (' '.join(meaningful_words))"
   ]
  },
  {
   "cell_type": "code",
   "execution_count": 25,
   "metadata": {},
   "outputs": [
    {
     "data": {
      "text/html": [
       "<div>\n",
       "<style scoped>\n",
       "    .dataframe tbody tr th:only-of-type {\n",
       "        vertical-align: middle;\n",
       "    }\n",
       "\n",
       "    .dataframe tbody tr th {\n",
       "        vertical-align: top;\n",
       "    }\n",
       "\n",
       "    .dataframe thead th {\n",
       "        text-align: right;\n",
       "    }\n",
       "</style>\n",
       "<table border=\"1\" class=\"dataframe\">\n",
       "  <thead>\n",
       "    <tr style=\"text-align: right;\">\n",
       "      <th></th>\n",
       "      <th>name</th>\n",
       "      <th>mc_slug</th>\n",
       "      <th>metascore</th>\n",
       "      <th>user_score</th>\n",
       "      <th>date_released</th>\n",
       "      <th>summary</th>\n",
       "      <th>genres</th>\n",
       "      <th>rating</th>\n",
       "      <th>api_id</th>\n",
       "      <th>description</th>\n",
       "      <th>model_description</th>\n",
       "      <th>clean_genres</th>\n",
       "      <th>clean_descrip</th>\n",
       "    </tr>\n",
       "  </thead>\n",
       "  <tbody>\n",
       "    <tr>\n",
       "      <th>0</th>\n",
       "      <td>Mass Effect 2</td>\n",
       "      <td>mass-effect-2</td>\n",
       "      <td>94.0</td>\n",
       "      <td>8.9</td>\n",
       "      <td>2010-01-26</td>\n",
       "      <td>The Mass Effect trilogy is a science fiction a...</td>\n",
       "      <td>{'Action RPG', 'Role-Playing'}</td>\n",
       "      <td>M</td>\n",
       "      <td>4806.0</td>\n",
       "      <td>Mass Effect II is a sequel to Mass Effect one,...</td>\n",
       "      <td>Mass Effect II is a sequel to Mass Effect one,...</td>\n",
       "      <td>action role-playing rpg</td>\n",
       "      <td>mass effect ii sequel mass effect one followin...</td>\n",
       "    </tr>\n",
       "    <tr>\n",
       "      <th>1</th>\n",
       "      <td>Starcraft II: Wings of Liberty</td>\n",
       "      <td>starcraft-ii-wings-of-liberty</td>\n",
       "      <td>93.0</td>\n",
       "      <td>8.3</td>\n",
       "      <td>2010-07-27</td>\n",
       "      <td>StarCraft II continues the epic saga of the Pr...</td>\n",
       "      <td>{'Strategy', 'Command', 'Sci-Fi', 'Real-Time'}</td>\n",
       "      <td>T</td>\n",
       "      <td>38067.0</td>\n",
       "      <td>StarCraft II: Wings of Liberty is a strategy g...</td>\n",
       "      <td>StarCraft II continues the epic saga of the Pr...</td>\n",
       "      <td>sci-fi strategy command real-time</td>\n",
       "      <td>starcraft ii continues epic saga protoss terra...</td>\n",
       "    </tr>\n",
       "  </tbody>\n",
       "</table>\n",
       "</div>"
      ],
      "text/plain": [
       "                             name                        mc_slug  metascore  \\\n",
       "0                   Mass Effect 2                  mass-effect-2       94.0   \n",
       "1  Starcraft II: Wings of Liberty  starcraft-ii-wings-of-liberty       93.0   \n",
       "\n",
       "   user_score date_released  \\\n",
       "0         8.9    2010-01-26   \n",
       "1         8.3    2010-07-27   \n",
       "\n",
       "                                             summary  \\\n",
       "0  The Mass Effect trilogy is a science fiction a...   \n",
       "1  StarCraft II continues the epic saga of the Pr...   \n",
       "\n",
       "                                           genres rating   api_id  \\\n",
       "0                  {'Action RPG', 'Role-Playing'}      M   4806.0   \n",
       "1  {'Strategy', 'Command', 'Sci-Fi', 'Real-Time'}      T  38067.0   \n",
       "\n",
       "                                         description  \\\n",
       "0  Mass Effect II is a sequel to Mass Effect one,...   \n",
       "1  StarCraft II: Wings of Liberty is a strategy g...   \n",
       "\n",
       "                                   model_description  \\\n",
       "0  Mass Effect II is a sequel to Mass Effect one,...   \n",
       "1  StarCraft II continues the epic saga of the Pr...   \n",
       "\n",
       "                        clean_genres  \\\n",
       "0            action role-playing rpg   \n",
       "1  sci-fi strategy command real-time   \n",
       "\n",
       "                                       clean_descrip  \n",
       "0  mass effect ii sequel mass effect one followin...  \n",
       "1  starcraft ii continues epic saga protoss terra...  "
      ]
     },
     "execution_count": 25,
     "metadata": {},
     "output_type": "execute_result"
    }
   ],
   "source": [
    "# Clean description\n",
    "games['clean_descrip'] = games['model_description'].map(clean_description)\n",
    "games.head(2)"
   ]
  },
  {
   "cell_type": "markdown",
   "metadata": {},
   "source": [
    "# Save as csv file"
   ]
  },
  {
   "cell_type": "code",
   "execution_count": 26,
   "metadata": {},
   "outputs": [],
   "source": [
    "games.to_csv('../data/ready_to_model.csv', index=False)"
   ]
  },
  {
   "cell_type": "code",
   "execution_count": null,
   "metadata": {},
   "outputs": [],
   "source": []
  }
 ],
 "metadata": {
  "kernelspec": {
   "display_name": "Python 3",
   "language": "python",
   "name": "python3"
  },
  "language_info": {
   "codemirror_mode": {
    "name": "ipython",
    "version": 3
   },
   "file_extension": ".py",
   "mimetype": "text/x-python",
   "name": "python",
   "nbconvert_exporter": "python",
   "pygments_lexer": "ipython3",
   "version": "3.7.6"
  }
 },
 "nbformat": 4,
 "nbformat_minor": 4
}
