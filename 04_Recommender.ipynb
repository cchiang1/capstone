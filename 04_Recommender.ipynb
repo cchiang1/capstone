{
 "cells": [
  {
   "cell_type": "markdown",
   "metadata": {},
   "source": [
    "# Imports"
   ]
  },
  {
   "cell_type": "code",
   "execution_count": 1,
   "metadata": {},
   "outputs": [],
   "source": [
    "import pandas as pd\n",
    "import numpy as np\n",
    "\n",
    "from sklearn.feature_extraction.text import CountVectorizer, TfidfVectorizer\n",
    "from sklearn.metrics.pairwise import pairwise_distances\n",
    "from scipy.sparse import hstack"
   ]
  },
  {
   "cell_type": "markdown",
   "metadata": {},
   "source": [
    "# Read in data"
   ]
  },
  {
   "cell_type": "code",
   "execution_count": 2,
   "metadata": {},
   "outputs": [
    {
     "data": {
      "text/html": [
       "<div>\n",
       "<style scoped>\n",
       "    .dataframe tbody tr th:only-of-type {\n",
       "        vertical-align: middle;\n",
       "    }\n",
       "\n",
       "    .dataframe tbody tr th {\n",
       "        vertical-align: top;\n",
       "    }\n",
       "\n",
       "    .dataframe thead th {\n",
       "        text-align: right;\n",
       "    }\n",
       "</style>\n",
       "<table border=\"1\" class=\"dataframe\">\n",
       "  <thead>\n",
       "    <tr style=\"text-align: right;\">\n",
       "      <th></th>\n",
       "      <th>name</th>\n",
       "      <th>mc_slug</th>\n",
       "      <th>metascore</th>\n",
       "      <th>user_score</th>\n",
       "      <th>date_released</th>\n",
       "      <th>summary</th>\n",
       "      <th>genres</th>\n",
       "      <th>rating</th>\n",
       "      <th>api_id</th>\n",
       "      <th>description</th>\n",
       "      <th>model_description</th>\n",
       "      <th>clean_genres</th>\n",
       "      <th>clean_descrip</th>\n",
       "    </tr>\n",
       "  </thead>\n",
       "  <tbody>\n",
       "    <tr>\n",
       "      <th>0</th>\n",
       "      <td>Mass Effect 2</td>\n",
       "      <td>mass-effect-2</td>\n",
       "      <td>94.0</td>\n",
       "      <td>8.9</td>\n",
       "      <td>2010-01-26</td>\n",
       "      <td>The Mass Effect trilogy is a science fiction a...</td>\n",
       "      <td>{'Action RPG', 'Role-Playing'}</td>\n",
       "      <td>M</td>\n",
       "      <td>4806.0</td>\n",
       "      <td>Mass Effect II is a sequel to Mass Effect one,...</td>\n",
       "      <td>Mass Effect II is a sequel to Mass Effect one,...</td>\n",
       "      <td>action role-playing rpg</td>\n",
       "      <td>mass effect ii sequel mass effect one followin...</td>\n",
       "    </tr>\n",
       "    <tr>\n",
       "      <th>1</th>\n",
       "      <td>Starcraft II: Wings of Liberty</td>\n",
       "      <td>starcraft-ii-wings-of-liberty</td>\n",
       "      <td>93.0</td>\n",
       "      <td>8.3</td>\n",
       "      <td>2010-07-27</td>\n",
       "      <td>StarCraft II continues the epic saga of the Pr...</td>\n",
       "      <td>{'Strategy', 'Command', 'Sci-Fi', 'Real-Time'}</td>\n",
       "      <td>T</td>\n",
       "      <td>38067.0</td>\n",
       "      <td>StarCraft II: Wings of Liberty is a strategy g...</td>\n",
       "      <td>StarCraft II continues the epic saga of the Pr...</td>\n",
       "      <td>sci-fi strategy command real-time</td>\n",
       "      <td>starcraft ii continues epic saga protoss terra...</td>\n",
       "    </tr>\n",
       "  </tbody>\n",
       "</table>\n",
       "</div>"
      ],
      "text/plain": [
       "                             name                        mc_slug  metascore  \\\n",
       "0                   Mass Effect 2                  mass-effect-2       94.0   \n",
       "1  Starcraft II: Wings of Liberty  starcraft-ii-wings-of-liberty       93.0   \n",
       "\n",
       "   user_score date_released  \\\n",
       "0         8.9    2010-01-26   \n",
       "1         8.3    2010-07-27   \n",
       "\n",
       "                                             summary  \\\n",
       "0  The Mass Effect trilogy is a science fiction a...   \n",
       "1  StarCraft II continues the epic saga of the Pr...   \n",
       "\n",
       "                                           genres rating   api_id  \\\n",
       "0                  {'Action RPG', 'Role-Playing'}      M   4806.0   \n",
       "1  {'Strategy', 'Command', 'Sci-Fi', 'Real-Time'}      T  38067.0   \n",
       "\n",
       "                                         description  \\\n",
       "0  Mass Effect II is a sequel to Mass Effect one,...   \n",
       "1  StarCraft II: Wings of Liberty is a strategy g...   \n",
       "\n",
       "                                   model_description  \\\n",
       "0  Mass Effect II is a sequel to Mass Effect one,...   \n",
       "1  StarCraft II continues the epic saga of the Pr...   \n",
       "\n",
       "                        clean_genres  \\\n",
       "0            action role-playing rpg   \n",
       "1  sci-fi strategy command real-time   \n",
       "\n",
       "                                       clean_descrip  \n",
       "0  mass effect ii sequel mass effect one followin...  \n",
       "1  starcraft ii continues epic saga protoss terra...  "
      ]
     },
     "execution_count": 2,
     "metadata": {},
     "output_type": "execute_result"
    }
   ],
   "source": [
    "games = pd.read_csv('data/ready_to_model.csv')\n",
    "games.head(2)"
   ]
  },
  {
   "cell_type": "markdown",
   "metadata": {},
   "source": [
    "# Building the recommender\n",
    "\n",
    "- Use CountVectorizer on the genres\n",
    "- Use TFIDFVectorizer on the game descriptions"
   ]
  },
  {
   "cell_type": "code",
   "execution_count": 3,
   "metadata": {},
   "outputs": [],
   "source": [
    "# CountVectorizer\n",
    "cvec = CountVectorizer()\n",
    "cvec_matrix = cvec.fit_transform(games['clean_genres'])\n",
    "\n",
    "# TFIDFVectorizer\n",
    "tfidf = TfidfVectorizer(ngram_range=(1, 3),\n",
    "                        min_df=5,\n",
    "                        max_df=0.75)\n",
    "\n",
    "tfidf_matrix = tfidf.fit_transform(games['clean_descrip'])"
   ]
  },
  {
   "cell_type": "code",
   "execution_count": 4,
   "metadata": {},
   "outputs": [],
   "source": [
    "# Combine the two matrices\n",
    "combined_matrices = hstack((tfidf_matrix, cvec_matrix))"
   ]
  },
  {
   "cell_type": "code",
   "execution_count": 5,
   "metadata": {},
   "outputs": [],
   "source": [
    "# Calculate distance and create dataframe from results\n",
    "recommender = pairwise_distances(combined_matrices, metric='cosine')\n",
    "\n",
    "rec_df = pd.DataFrame(recommender,\n",
    "                      index=games['name'],\n",
    "                      columns=games['name'])"
   ]
  },
  {
   "cell_type": "code",
   "execution_count": 6,
   "metadata": {},
   "outputs": [
    {
     "data": {
      "text/html": [
       "<div>\n",
       "<style scoped>\n",
       "    .dataframe tbody tr th:only-of-type {\n",
       "        vertical-align: middle;\n",
       "    }\n",
       "\n",
       "    .dataframe tbody tr th {\n",
       "        vertical-align: top;\n",
       "    }\n",
       "\n",
       "    .dataframe thead th {\n",
       "        text-align: right;\n",
       "    }\n",
       "</style>\n",
       "<table border=\"1\" class=\"dataframe\">\n",
       "  <thead>\n",
       "    <tr style=\"text-align: right;\">\n",
       "      <th>name</th>\n",
       "      <th>Mass Effect 2</th>\n",
       "      <th>Starcraft II: Wings of Liberty</th>\n",
       "      <th>World of Warcraft: Cataclysm</th>\n",
       "      <th>Sid Meier's Civilization V</th>\n",
       "      <th>BioShock 2</th>\n",
       "      <th>Super Meat Boy</th>\n",
       "      <th>Battlefield: Bad Company 2</th>\n",
       "      <th>Monkey Island 2 Special Edition: LeChuck's Revenge</th>\n",
       "      <th>Borderlands: The Secret Armory of General Knoxx</th>\n",
       "      <th>Need for Speed: Hot Pursuit</th>\n",
       "      <th>...</th>\n",
       "      <th>Warlander</th>\n",
       "      <th>Romance of the Three Kingdoms XIV</th>\n",
       "      <th>Orangeblood</th>\n",
       "      <th>Praetorians HD Remaster</th>\n",
       "      <th>Table Manners</th>\n",
       "      <th>Minecraft: Story Mode - A Telltale Games Series - The Complete Edition</th>\n",
       "      <th>Minecraft: Story Mode - Season Two: The Telltale Series</th>\n",
       "      <th>Sam &amp; Max: The Devil's Playhouse</th>\n",
       "      <th>Cognition: An Erica Reed Thriller</th>\n",
       "      <th>Back to the Future: The Game</th>\n",
       "    </tr>\n",
       "    <tr>\n",
       "      <th>name</th>\n",
       "      <th></th>\n",
       "      <th></th>\n",
       "      <th></th>\n",
       "      <th></th>\n",
       "      <th></th>\n",
       "      <th></th>\n",
       "      <th></th>\n",
       "      <th></th>\n",
       "      <th></th>\n",
       "      <th></th>\n",
       "      <th></th>\n",
       "      <th></th>\n",
       "      <th></th>\n",
       "      <th></th>\n",
       "      <th></th>\n",
       "      <th></th>\n",
       "      <th></th>\n",
       "      <th></th>\n",
       "      <th></th>\n",
       "      <th></th>\n",
       "      <th></th>\n",
       "    </tr>\n",
       "  </thead>\n",
       "  <tbody>\n",
       "    <tr>\n",
       "      <th>Mass Effect 2</th>\n",
       "      <td>0.000000</td>\n",
       "      <td>0.992625</td>\n",
       "      <td>0.657152</td>\n",
       "      <td>0.995352</td>\n",
       "      <td>0.838656</td>\n",
       "      <td>0.772796</td>\n",
       "      <td>0.828137</td>\n",
       "      <td>0.995116</td>\n",
       "      <td>0.839878</td>\n",
       "      <td>0.997196</td>\n",
       "      <td>...</td>\n",
       "      <td>0.189530</td>\n",
       "      <td>0.994758</td>\n",
       "      <td>0.547795</td>\n",
       "      <td>0.997379</td>\n",
       "      <td>0.997518</td>\n",
       "      <td>0.993505</td>\n",
       "      <td>0.997011</td>\n",
       "      <td>0.999199</td>\n",
       "      <td>0.997812</td>\n",
       "      <td>0.857789</td>\n",
       "    </tr>\n",
       "    <tr>\n",
       "      <th>Starcraft II: Wings of Liberty</th>\n",
       "      <td>0.992625</td>\n",
       "      <td>0.000000</td>\n",
       "      <td>0.989835</td>\n",
       "      <td>0.832916</td>\n",
       "      <td>0.728561</td>\n",
       "      <td>0.993466</td>\n",
       "      <td>0.993973</td>\n",
       "      <td>0.988788</td>\n",
       "      <td>0.729537</td>\n",
       "      <td>0.995818</td>\n",
       "      <td>...</td>\n",
       "      <td>0.990679</td>\n",
       "      <td>0.823659</td>\n",
       "      <td>0.993797</td>\n",
       "      <td>0.477485</td>\n",
       "      <td>0.993621</td>\n",
       "      <td>0.992017</td>\n",
       "      <td>0.992211</td>\n",
       "      <td>0.997134</td>\n",
       "      <td>0.994390</td>\n",
       "      <td>0.758814</td>\n",
       "    </tr>\n",
       "    <tr>\n",
       "      <th>World of Warcraft: Cataclysm</th>\n",
       "      <td>0.657152</td>\n",
       "      <td>0.989835</td>\n",
       "      <td>0.000000</td>\n",
       "      <td>0.995820</td>\n",
       "      <td>0.993670</td>\n",
       "      <td>0.992406</td>\n",
       "      <td>0.996737</td>\n",
       "      <td>0.988277</td>\n",
       "      <td>0.983828</td>\n",
       "      <td>0.994481</td>\n",
       "      <td>...</td>\n",
       "      <td>0.654121</td>\n",
       "      <td>0.993460</td>\n",
       "      <td>0.614823</td>\n",
       "      <td>0.996675</td>\n",
       "      <td>0.995718</td>\n",
       "      <td>0.996392</td>\n",
       "      <td>0.994097</td>\n",
       "      <td>0.996586</td>\n",
       "      <td>0.992467</td>\n",
       "      <td>0.998116</td>\n",
       "    </tr>\n",
       "  </tbody>\n",
       "</table>\n",
       "<p>3 rows × 2536 columns</p>\n",
       "</div>"
      ],
      "text/plain": [
       "name                            Mass Effect 2  Starcraft II: Wings of Liberty  \\\n",
       "name                                                                            \n",
       "Mass Effect 2                        0.000000                        0.992625   \n",
       "Starcraft II: Wings of Liberty       0.992625                        0.000000   \n",
       "World of Warcraft: Cataclysm         0.657152                        0.989835   \n",
       "\n",
       "name                            World of Warcraft: Cataclysm  \\\n",
       "name                                                           \n",
       "Mass Effect 2                                       0.657152   \n",
       "Starcraft II: Wings of Liberty                      0.989835   \n",
       "World of Warcraft: Cataclysm                        0.000000   \n",
       "\n",
       "name                            Sid Meier's Civilization V  BioShock 2  \\\n",
       "name                                                                     \n",
       "Mass Effect 2                                     0.995352    0.838656   \n",
       "Starcraft II: Wings of Liberty                    0.832916    0.728561   \n",
       "World of Warcraft: Cataclysm                      0.995820    0.993670   \n",
       "\n",
       "name                            Super Meat Boy  Battlefield: Bad Company 2  \\\n",
       "name                                                                         \n",
       "Mass Effect 2                         0.772796                    0.828137   \n",
       "Starcraft II: Wings of Liberty        0.993466                    0.993973   \n",
       "World of Warcraft: Cataclysm          0.992406                    0.996737   \n",
       "\n",
       "name                            Monkey Island 2 Special Edition: LeChuck's Revenge  \\\n",
       "name                                                                                 \n",
       "Mass Effect 2                                                            0.995116    \n",
       "Starcraft II: Wings of Liberty                                           0.988788    \n",
       "World of Warcraft: Cataclysm                                             0.988277    \n",
       "\n",
       "name                            Borderlands: The Secret Armory of General Knoxx  \\\n",
       "name                                                                              \n",
       "Mass Effect 2                                                          0.839878   \n",
       "Starcraft II: Wings of Liberty                                         0.729537   \n",
       "World of Warcraft: Cataclysm                                           0.983828   \n",
       "\n",
       "name                            Need for Speed: Hot Pursuit  ...  Warlander  \\\n",
       "name                                                         ...              \n",
       "Mass Effect 2                                      0.997196  ...   0.189530   \n",
       "Starcraft II: Wings of Liberty                     0.995818  ...   0.990679   \n",
       "World of Warcraft: Cataclysm                       0.994481  ...   0.654121   \n",
       "\n",
       "name                            Romance of the Three Kingdoms XIV  \\\n",
       "name                                                                \n",
       "Mass Effect 2                                            0.994758   \n",
       "Starcraft II: Wings of Liberty                           0.823659   \n",
       "World of Warcraft: Cataclysm                             0.993460   \n",
       "\n",
       "name                            Orangeblood  Praetorians HD Remaster  \\\n",
       "name                                                                   \n",
       "Mass Effect 2                      0.547795                 0.997379   \n",
       "Starcraft II: Wings of Liberty     0.993797                 0.477485   \n",
       "World of Warcraft: Cataclysm       0.614823                 0.996675   \n",
       "\n",
       "name                            Table Manners  \\\n",
       "name                                            \n",
       "Mass Effect 2                        0.997518   \n",
       "Starcraft II: Wings of Liberty       0.993621   \n",
       "World of Warcraft: Cataclysm         0.995718   \n",
       "\n",
       "name                            Minecraft: Story Mode - A Telltale Games Series - The Complete Edition  \\\n",
       "name                                                                                                     \n",
       "Mass Effect 2                                                            0.993505                        \n",
       "Starcraft II: Wings of Liberty                                           0.992017                        \n",
       "World of Warcraft: Cataclysm                                             0.996392                        \n",
       "\n",
       "name                            Minecraft: Story Mode - Season Two: The Telltale Series  \\\n",
       "name                                                                                      \n",
       "Mass Effect 2                                                            0.997011         \n",
       "Starcraft II: Wings of Liberty                                           0.992211         \n",
       "World of Warcraft: Cataclysm                                             0.994097         \n",
       "\n",
       "name                            Sam & Max: The Devil's Playhouse  \\\n",
       "name                                                               \n",
       "Mass Effect 2                                           0.999199   \n",
       "Starcraft II: Wings of Liberty                          0.997134   \n",
       "World of Warcraft: Cataclysm                            0.996586   \n",
       "\n",
       "name                            Cognition: An Erica Reed Thriller  \\\n",
       "name                                                                \n",
       "Mass Effect 2                                            0.997812   \n",
       "Starcraft II: Wings of Liberty                           0.994390   \n",
       "World of Warcraft: Cataclysm                             0.992467   \n",
       "\n",
       "name                            Back to the Future: The Game  \n",
       "name                                                          \n",
       "Mass Effect 2                                       0.857789  \n",
       "Starcraft II: Wings of Liberty                      0.758814  \n",
       "World of Warcraft: Cataclysm                        0.998116  \n",
       "\n",
       "[3 rows x 2536 columns]"
      ]
     },
     "execution_count": 6,
     "metadata": {},
     "output_type": "execute_result"
    }
   ],
   "source": [
    "rec_df.head(3)"
   ]
  },
  {
   "cell_type": "markdown",
   "metadata": {},
   "source": [
    "# Evaluate recommender"
   ]
  },
  {
   "cell_type": "markdown",
   "metadata": {},
   "source": [
    "## Rocket League\n",
    "\n",
    "Rocket League is essentially a car soccer-like game. You control a car manuevering it to push a ball into the opposing team's goal. The top 10 recommendations returned are mostly racing games and a few soccer games, which shows that the recommender does a pretty good job selecting games that have similar descriptions and genres.\n",
    "\n",
    "Source: https://en.wikipedia.org/wiki/Rocket_League"
   ]
  },
  {
   "cell_type": "code",
   "execution_count": 7,
   "metadata": {
    "scrolled": true
   },
   "outputs": [
    {
     "data": {
      "text/plain": [
       "name\n",
       "Formula Fusion               0.414325\n",
       "Antigraviator                0.418578\n",
       "Trailblazers                 0.426053\n",
       "Obliteracers                 0.428721\n",
       "Desert Child                 0.429712\n",
       "Frozen Cortex                0.475341\n",
       "Speedball 2 HD               0.476041\n",
       "Pro Evolution Soccer 2016    0.481054\n",
       "Redout (2016)                0.484130\n",
       "Pro Evolution Soccer 2019    0.484935\n",
       "Name: Rocket League, dtype: float64"
      ]
     },
     "execution_count": 7,
     "metadata": {},
     "output_type": "execute_result"
    }
   ],
   "source": [
    "rec_df['Rocket League'].sort_values()[1:11]"
   ]
  },
  {
   "cell_type": "markdown",
   "metadata": {},
   "source": [
    "## The Wolf Among Us\n",
    "\n",
    "The Wolf Among Us is a point-and-click, episodic game developed by Telltale Games based on a comic about fairy tale characters. You play as Bigby Wolf aka The Big Bad Wolf, trying to solve a string of murders in Fabletown. Looking at the recommendations, it makes sense that the recommended games are also either games developed by Telltale Games, episodic games, point-and-click type games, or a combination of those."
   ]
  },
  {
   "cell_type": "code",
   "execution_count": 8,
   "metadata": {},
   "outputs": [
    {
     "data": {
      "text/plain": [
       "name\n",
       "The Walking Dead: The Telltale Series - A New Frontier    0.176030\n",
       "The Walking Dead: Season Two - A Telltale Games Series    0.178198\n",
       "Dead Synchronicity: Tomorrow Comes Today                  0.188719\n",
       "Game of Thrones: A Telltale Games Series                  0.188825\n",
       "Shadowgate                                                0.195279\n",
       "The Bunker                                                0.195900\n",
       "The Dream Machine                                         0.195985\n",
       "Cognition: An Erica Reed Thriller                         0.265694\n",
       "Edna & Harvey: Harvey's New Eyes                          0.265914\n",
       "Gomo                                                      0.266757\n",
       "Name: The Wolf Among Us, dtype: float64"
      ]
     },
     "execution_count": 8,
     "metadata": {},
     "output_type": "execute_result"
    }
   ],
   "source": [
    "rec_df['The Wolf Among Us'].sort_values()[1:11]"
   ]
  },
  {
   "cell_type": "markdown",
   "metadata": {},
   "source": [
    "# Limitations\n",
    "\n",
    "Game recommdendations are limited to the number of similar games in the data. Since Overcooked! is the only cooking game in the data, we get a list of recommendations that are not similar to Overcooked! at all in terms of description but only in genre (simulation games). "
   ]
  },
  {
   "cell_type": "code",
   "execution_count": 9,
   "metadata": {},
   "outputs": [
    {
     "data": {
      "text/plain": [
       "name\n",
       "Motorsport Manager                0.330342\n",
       "Drug Dealer Simulator             0.381349\n",
       "Beat Cop                          0.382262\n",
       "911 Operator                      0.382716\n",
       "Farming Simulator 17              0.382794\n",
       "Bridge Constructor Portal         0.383846\n",
       "Pure Farming 2018                 0.383927\n",
       "This is the Police 2              0.384520\n",
       "Diaries of a Spaceport Janitor    0.384647\n",
       "Farming Simulator 19              0.384929\n",
       "Name: Overcooked!, dtype: float64"
      ]
     },
     "execution_count": 9,
     "metadata": {},
     "output_type": "execute_result"
    }
   ],
   "source": [
    "rec_df['Overcooked!'].sort_values()[1:11]"
   ]
  },
  {
   "cell_type": "markdown",
   "metadata": {},
   "source": [
    "# Save recommender as csv file"
   ]
  },
  {
   "cell_type": "code",
   "execution_count": 10,
   "metadata": {},
   "outputs": [],
   "source": [
    "rec_df.to_csv('data/recommender.csv')"
   ]
  },
  {
   "cell_type": "code",
   "execution_count": null,
   "metadata": {},
   "outputs": [],
   "source": []
  }
 ],
 "metadata": {
  "kernelspec": {
   "display_name": "Python 3",
   "language": "python",
   "name": "python3"
  },
  "language_info": {
   "codemirror_mode": {
    "name": "ipython",
    "version": 3
   },
   "file_extension": ".py",
   "mimetype": "text/x-python",
   "name": "python",
   "nbconvert_exporter": "python",
   "pygments_lexer": "ipython3",
   "version": "3.7.6"
  }
 },
 "nbformat": 4,
 "nbformat_minor": 4
}
