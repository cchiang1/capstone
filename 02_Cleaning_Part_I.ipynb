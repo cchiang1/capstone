{
 "cells": [
  {
   "cell_type": "markdown",
   "metadata": {},
   "source": [
    "# Imports"
   ]
  },
  {
   "cell_type": "code",
   "execution_count": 1,
   "metadata": {},
   "outputs": [],
   "source": [
    "import pandas as pd\n",
    "import numpy as np\n",
    "from bs4 import BeautifulSoup\n",
    "import requests"
   ]
  },
  {
   "cell_type": "markdown",
   "metadata": {},
   "source": [
    "# Read in files"
   ]
  },
  {
   "cell_type": "code",
   "execution_count": 2,
   "metadata": {},
   "outputs": [
    {
     "data": {
      "text/html": [
       "<div>\n",
       "<style scoped>\n",
       "    .dataframe tbody tr th:only-of-type {\n",
       "        vertical-align: middle;\n",
       "    }\n",
       "\n",
       "    .dataframe tbody tr th {\n",
       "        vertical-align: top;\n",
       "    }\n",
       "\n",
       "    .dataframe thead th {\n",
       "        text-align: right;\n",
       "    }\n",
       "</style>\n",
       "<table border=\"1\" class=\"dataframe\">\n",
       "  <thead>\n",
       "    <tr style=\"text-align: right;\">\n",
       "      <th></th>\n",
       "      <th>name</th>\n",
       "      <th>mc_slug</th>\n",
       "      <th>metascore</th>\n",
       "      <th>user_score</th>\n",
       "      <th>date_released</th>\n",
       "    </tr>\n",
       "  </thead>\n",
       "  <tbody>\n",
       "    <tr>\n",
       "      <th>0</th>\n",
       "      <td>Mass Effect 2</td>\n",
       "      <td>mass-effect-2</td>\n",
       "      <td>94</td>\n",
       "      <td>8.9</td>\n",
       "      <td>Jan 26, 2010</td>\n",
       "    </tr>\n",
       "    <tr>\n",
       "      <th>1</th>\n",
       "      <td>Starcraft II: Wings of Liberty</td>\n",
       "      <td>starcraft-ii-wings-of-liberty</td>\n",
       "      <td>93</td>\n",
       "      <td>8.3</td>\n",
       "      <td>Jul 27, 2010</td>\n",
       "    </tr>\n",
       "  </tbody>\n",
       "</table>\n",
       "</div>"
      ],
      "text/plain": [
       "                             name                        mc_slug  metascore  \\\n",
       "0                   Mass Effect 2                  mass-effect-2         94   \n",
       "1  Starcraft II: Wings of Liberty  starcraft-ii-wings-of-liberty         93   \n",
       "\n",
       "   user_score date_released  \n",
       "0         8.9  Jan 26, 2010  \n",
       "1         8.3  Jul 27, 2010  "
      ]
     },
     "execution_count": 2,
     "metadata": {},
     "output_type": "execute_result"
    }
   ],
   "source": [
    "scores = pd.read_csv('data/games_basic.csv')\n",
    "scores.head(2)"
   ]
  },
  {
   "cell_type": "code",
   "execution_count": 3,
   "metadata": {},
   "outputs": [
    {
     "data": {
      "text/html": [
       "<div>\n",
       "<style scoped>\n",
       "    .dataframe tbody tr th:only-of-type {\n",
       "        vertical-align: middle;\n",
       "    }\n",
       "\n",
       "    .dataframe tbody tr th {\n",
       "        vertical-align: top;\n",
       "    }\n",
       "\n",
       "    .dataframe thead th {\n",
       "        text-align: right;\n",
       "    }\n",
       "</style>\n",
       "<table border=\"1\" class=\"dataframe\">\n",
       "  <thead>\n",
       "    <tr style=\"text-align: right;\">\n",
       "      <th></th>\n",
       "      <th>mc_slug</th>\n",
       "      <th>summary</th>\n",
       "      <th>genres</th>\n",
       "    </tr>\n",
       "  </thead>\n",
       "  <tbody>\n",
       "    <tr>\n",
       "      <th>0</th>\n",
       "      <td>mass-effect-2</td>\n",
       "      <td>The Mass Effect trilogy is a science fiction a...</td>\n",
       "      <td>{'Action RPG', 'Role-Playing'}</td>\n",
       "    </tr>\n",
       "    <tr>\n",
       "      <th>1</th>\n",
       "      <td>starcraft-ii-wings-of-liberty</td>\n",
       "      <td>StarCraft II continues the epic saga of the Pr...</td>\n",
       "      <td>{'Strategy', 'Command', 'Sci-Fi', 'Real-Time'}</td>\n",
       "    </tr>\n",
       "  </tbody>\n",
       "</table>\n",
       "</div>"
      ],
      "text/plain": [
       "                         mc_slug  \\\n",
       "0                  mass-effect-2   \n",
       "1  starcraft-ii-wings-of-liberty   \n",
       "\n",
       "                                             summary  \\\n",
       "0  The Mass Effect trilogy is a science fiction a...   \n",
       "1  StarCraft II continues the epic saga of the Pr...   \n",
       "\n",
       "                                           genres  \n",
       "0                  {'Action RPG', 'Role-Playing'}  \n",
       "1  {'Strategy', 'Command', 'Sci-Fi', 'Real-Time'}  "
      ]
     },
     "execution_count": 3,
     "metadata": {},
     "output_type": "execute_result"
    }
   ],
   "source": [
    "summ = pd.read_csv('data/summary_genres.csv')\n",
    "summ.head(2)"
   ]
  },
  {
   "cell_type": "code",
   "execution_count": 4,
   "metadata": {},
   "outputs": [
    {
     "data": {
      "text/html": [
       "<div>\n",
       "<style scoped>\n",
       "    .dataframe tbody tr th:only-of-type {\n",
       "        vertical-align: middle;\n",
       "    }\n",
       "\n",
       "    .dataframe tbody tr th {\n",
       "        vertical-align: top;\n",
       "    }\n",
       "\n",
       "    .dataframe thead th {\n",
       "        text-align: right;\n",
       "    }\n",
       "</style>\n",
       "<table border=\"1\" class=\"dataframe\">\n",
       "  <thead>\n",
       "    <tr style=\"text-align: right;\">\n",
       "      <th></th>\n",
       "      <th>mc_slug</th>\n",
       "      <th>rating</th>\n",
       "    </tr>\n",
       "  </thead>\n",
       "  <tbody>\n",
       "    <tr>\n",
       "      <th>0</th>\n",
       "      <td>mass-effect-2</td>\n",
       "      <td>M</td>\n",
       "    </tr>\n",
       "    <tr>\n",
       "      <th>1</th>\n",
       "      <td>starcraft-ii-wings-of-liberty</td>\n",
       "      <td>T</td>\n",
       "    </tr>\n",
       "  </tbody>\n",
       "</table>\n",
       "</div>"
      ],
      "text/plain": [
       "                         mc_slug rating\n",
       "0                  mass-effect-2      M\n",
       "1  starcraft-ii-wings-of-liberty      T"
      ]
     },
     "execution_count": 4,
     "metadata": {},
     "output_type": "execute_result"
    }
   ],
   "source": [
    "ratings = pd.read_csv('data/ratings.csv')\n",
    "ratings.head(2)"
   ]
  },
  {
   "cell_type": "code",
   "execution_count": 5,
   "metadata": {},
   "outputs": [
    {
     "data": {
      "text/html": [
       "<div>\n",
       "<style scoped>\n",
       "    .dataframe tbody tr th:only-of-type {\n",
       "        vertical-align: middle;\n",
       "    }\n",
       "\n",
       "    .dataframe tbody tr th {\n",
       "        vertical-align: top;\n",
       "    }\n",
       "\n",
       "    .dataframe thead th {\n",
       "        text-align: right;\n",
       "    }\n",
       "</style>\n",
       "<table border=\"1\" class=\"dataframe\">\n",
       "  <thead>\n",
       "    <tr style=\"text-align: right;\">\n",
       "      <th></th>\n",
       "      <th>mc_slug</th>\n",
       "      <th>api_id</th>\n",
       "      <th>description</th>\n",
       "    </tr>\n",
       "  </thead>\n",
       "  <tbody>\n",
       "    <tr>\n",
       "      <th>0</th>\n",
       "      <td>mass-effect-2</td>\n",
       "      <td>4806.0</td>\n",
       "      <td>Mass Effect II is a sequel to Mass Effect one,...</td>\n",
       "    </tr>\n",
       "    <tr>\n",
       "      <th>1</th>\n",
       "      <td>starcraft-ii-wings-of-liberty</td>\n",
       "      <td>38067.0</td>\n",
       "      <td>StarCraft II: Wings of Liberty is a strategy g...</td>\n",
       "    </tr>\n",
       "  </tbody>\n",
       "</table>\n",
       "</div>"
      ],
      "text/plain": [
       "                         mc_slug   api_id  \\\n",
       "0                  mass-effect-2   4806.0   \n",
       "1  starcraft-ii-wings-of-liberty  38067.0   \n",
       "\n",
       "                                         description  \n",
       "0  Mass Effect II is a sequel to Mass Effect one,...  \n",
       "1  StarCraft II: Wings of Liberty is a strategy g...  "
      ]
     },
     "execution_count": 5,
     "metadata": {},
     "output_type": "execute_result"
    }
   ],
   "source": [
    "descrip = pd.read_csv('data/api_descriptions.csv')\n",
    "descrip.head(2)"
   ]
  },
  {
   "cell_type": "markdown",
   "metadata": {},
   "source": [
    "# Merge data\n",
    "\n",
    "Since all the dataframes have a common `mc_slug` column, I can merge all the dataframes into one using that column."
   ]
  },
  {
   "cell_type": "code",
   "execution_count": 7,
   "metadata": {
    "scrolled": true
   },
   "outputs": [
    {
     "data": {
      "text/html": [
       "<div>\n",
       "<style scoped>\n",
       "    .dataframe tbody tr th:only-of-type {\n",
       "        vertical-align: middle;\n",
       "    }\n",
       "\n",
       "    .dataframe tbody tr th {\n",
       "        vertical-align: top;\n",
       "    }\n",
       "\n",
       "    .dataframe thead th {\n",
       "        text-align: right;\n",
       "    }\n",
       "</style>\n",
       "<table border=\"1\" class=\"dataframe\">\n",
       "  <thead>\n",
       "    <tr style=\"text-align: right;\">\n",
       "      <th></th>\n",
       "      <th>name</th>\n",
       "      <th>mc_slug</th>\n",
       "      <th>metascore</th>\n",
       "      <th>user_score</th>\n",
       "      <th>date_released</th>\n",
       "      <th>summary</th>\n",
       "      <th>genres</th>\n",
       "      <th>rating</th>\n",
       "      <th>api_id</th>\n",
       "      <th>description</th>\n",
       "    </tr>\n",
       "  </thead>\n",
       "  <tbody>\n",
       "    <tr>\n",
       "      <th>0</th>\n",
       "      <td>Mass Effect 2</td>\n",
       "      <td>mass-effect-2</td>\n",
       "      <td>94</td>\n",
       "      <td>8.9</td>\n",
       "      <td>Jan 26, 2010</td>\n",
       "      <td>The Mass Effect trilogy is a science fiction a...</td>\n",
       "      <td>{'Action RPG', 'Role-Playing'}</td>\n",
       "      <td>M</td>\n",
       "      <td>4806.0</td>\n",
       "      <td>Mass Effect II is a sequel to Mass Effect one,...</td>\n",
       "    </tr>\n",
       "    <tr>\n",
       "      <th>1</th>\n",
       "      <td>Starcraft II: Wings of Liberty</td>\n",
       "      <td>starcraft-ii-wings-of-liberty</td>\n",
       "      <td>93</td>\n",
       "      <td>8.3</td>\n",
       "      <td>Jul 27, 2010</td>\n",
       "      <td>StarCraft II continues the epic saga of the Pr...</td>\n",
       "      <td>{'Strategy', 'Command', 'Sci-Fi', 'Real-Time'}</td>\n",
       "      <td>T</td>\n",
       "      <td>38067.0</td>\n",
       "      <td>StarCraft II: Wings of Liberty is a strategy g...</td>\n",
       "    </tr>\n",
       "    <tr>\n",
       "      <th>2</th>\n",
       "      <td>World of Warcraft: Cataclysm</td>\n",
       "      <td>world-of-warcraft-cataclysm</td>\n",
       "      <td>90</td>\n",
       "      <td>5.7</td>\n",
       "      <td>Dec 7, 2010</td>\n",
       "      <td>In Cataclysm, players witness the face of Azer...</td>\n",
       "      <td>{'Massively Multiplayer', 'Massively Multiplay...</td>\n",
       "      <td>T</td>\n",
       "      <td>39685.0</td>\n",
       "      <td>World of Warcraft: Cataclysm is a RPG massivel...</td>\n",
       "    </tr>\n",
       "    <tr>\n",
       "      <th>3</th>\n",
       "      <td>Sid Meier's Civilization V</td>\n",
       "      <td>sid-meiers-civilization-v</td>\n",
       "      <td>90</td>\n",
       "      <td>8.0</td>\n",
       "      <td>Sep 21, 2010</td>\n",
       "      <td>With over nine million units sold worldwide, a...</td>\n",
       "      <td>{'Strategy', 'Turn-Based', '4X', 'Historic'}</td>\n",
       "      <td>E10+</td>\n",
       "      <td>13633.0</td>\n",
       "      <td>Real-time strategy genre has always been about...</td>\n",
       "    </tr>\n",
       "    <tr>\n",
       "      <th>4</th>\n",
       "      <td>BioShock 2</td>\n",
       "      <td>bioshock-2</td>\n",
       "      <td>88</td>\n",
       "      <td>8.0</td>\n",
       "      <td>Feb 9, 2010</td>\n",
       "      <td>Set approximately 10 years after the events of...</td>\n",
       "      <td>{'First-Person', 'Sci-Fi', 'Shooter', 'Action'...</td>\n",
       "      <td>M</td>\n",
       "      <td>4427.0</td>\n",
       "      <td>The second game returns us to the city of Rapt...</td>\n",
       "    </tr>\n",
       "  </tbody>\n",
       "</table>\n",
       "</div>"
      ],
      "text/plain": [
       "                             name                        mc_slug  metascore  \\\n",
       "0                   Mass Effect 2                  mass-effect-2         94   \n",
       "1  Starcraft II: Wings of Liberty  starcraft-ii-wings-of-liberty         93   \n",
       "2    World of Warcraft: Cataclysm    world-of-warcraft-cataclysm         90   \n",
       "3      Sid Meier's Civilization V      sid-meiers-civilization-v         90   \n",
       "4                      BioShock 2                     bioshock-2         88   \n",
       "\n",
       "   user_score date_released  \\\n",
       "0         8.9  Jan 26, 2010   \n",
       "1         8.3  Jul 27, 2010   \n",
       "2         5.7   Dec 7, 2010   \n",
       "3         8.0  Sep 21, 2010   \n",
       "4         8.0   Feb 9, 2010   \n",
       "\n",
       "                                             summary  \\\n",
       "0  The Mass Effect trilogy is a science fiction a...   \n",
       "1  StarCraft II continues the epic saga of the Pr...   \n",
       "2  In Cataclysm, players witness the face of Azer...   \n",
       "3  With over nine million units sold worldwide, a...   \n",
       "4  Set approximately 10 years after the events of...   \n",
       "\n",
       "                                              genres rating   api_id  \\\n",
       "0                     {'Action RPG', 'Role-Playing'}      M   4806.0   \n",
       "1     {'Strategy', 'Command', 'Sci-Fi', 'Real-Time'}      T  38067.0   \n",
       "2  {'Massively Multiplayer', 'Massively Multiplay...      T  39685.0   \n",
       "3       {'Strategy', 'Turn-Based', '4X', 'Historic'}   E10+  13633.0   \n",
       "4  {'First-Person', 'Sci-Fi', 'Shooter', 'Action'...      M   4427.0   \n",
       "\n",
       "                                         description  \n",
       "0  Mass Effect II is a sequel to Mass Effect one,...  \n",
       "1  StarCraft II: Wings of Liberty is a strategy g...  \n",
       "2  World of Warcraft: Cataclysm is a RPG massivel...  \n",
       "3  Real-time strategy genre has always been about...  \n",
       "4  The second game returns us to the city of Rapt...  "
      ]
     },
     "execution_count": 7,
     "metadata": {},
     "output_type": "execute_result"
    }
   ],
   "source": [
    "games = pd.merge(scores, summ, on='mc_slug').merge(ratings).merge(descrip)\n",
    "games.head()"
   ]
  },
  {
   "cell_type": "code",
   "execution_count": 8,
   "metadata": {},
   "outputs": [
    {
     "data": {
      "text/plain": [
       "(2664, 10)"
      ]
     },
     "execution_count": 8,
     "metadata": {},
     "output_type": "execute_result"
    }
   ],
   "source": [
    "# Check to make sure shape is correct\n",
    "games.shape"
   ]
  },
  {
   "cell_type": "markdown",
   "metadata": {},
   "source": [
    "# Cleaning\n",
    "\n",
    "Episodic games show up multiple times in the data due to the way they are released. This means that the full game as well as the individual episodes are all listed as separate games in the dataframe. To fix this, redundant episodes will be dropped and/or combined depending on if the full game is also in the dataframe."
   ]
  },
  {
   "cell_type": "markdown",
   "metadata": {},
   "source": [
    "## Functions"
   ]
  },
  {
   "cell_type": "code",
   "execution_count": 9,
   "metadata": {},
   "outputs": [],
   "source": [
    "# Function for getting clean descriptions from RAWG API\n",
    "def get_clean_descrip(api_id):\n",
    "    url = f\"https://rawg-video-games-database.p.rapidapi.com/games/{int(api_id)}\"\n",
    "\n",
    "    headers = {\n",
    "        'x-rapidapi-host': \"rawg-video-games-database.p.rapidapi.com\",\n",
    "        'x-rapidapi-key': # you api key here\n",
    "    }\n",
    "\n",
    "    res = requests.request('GET', url, headers=headers)\n",
    "\n",
    "    descrip = BeautifulSoup(res.json()['description']).get_text()\n",
    "    desc_split = descrip.split()\n",
    "    \n",
    "    return \" \".join(desc_split)\n"
   ]
  },
  {
   "cell_type": "code",
   "execution_count": 10,
   "metadata": {},
   "outputs": [],
   "source": [
    "# Scrape summaries from Metacritic\n",
    "def scrape_summary(game):\n",
    "    url = f'https://www.metacritic.com/game/pc/{game}'\n",
    "\n",
    "    user_agent = # your user agent here\n",
    "    headers = {'User-Agent': user_agent}\n",
    "\n",
    "    res = requests.get(url, headers=headers)\n",
    "    soup = BeautifulSoup(res.content, 'lxml')\n",
    " \n",
    "    summ = soup.find('li', {'class': 'summary_detail product_summary'})\n",
    "\n",
    "    if summ == None:\n",
    "        summary = np.nan\n",
    "    else:\n",
    "        try:\n",
    "            summary = summ.find('span', {'class': 'blurb blurb_expanded'}).get_text()\n",
    "        except:\n",
    "            summary = summ.get_text()\n",
    "    \n",
    "    if len(summary) > 0:\n",
    "        s = summary.split()\n",
    "\n",
    "    return ' '.join(s)\n"
   ]
  },
  {
   "cell_type": "code",
   "execution_count": 11,
   "metadata": {},
   "outputs": [],
   "source": [
    "# Scrape genres from metacritic\n",
    "def scrape_genre(game):\n",
    "    url = f'https://www.metacritic.com/game/pc/{game}'\n",
    "\n",
    "    user_agent = # your user agent here\n",
    "    headers = {'User-Agent': user_agent}\n",
    "\n",
    "    res = requests.get(url, headers=headers)\n",
    "    soup = BeautifulSoup(res.content, 'lxml')\n",
    "    \n",
    "    genre = soup.find('li', {'class': 'summary_detail product_genre'})\n",
    "    genre_list = genre.find_all('span', {'class': 'data'})\n",
    "    genres = set([genre_list[i].text for i in range(len(genre_list))])\n",
    "    \n",
    "    return genres"
   ]
  },
  {
   "cell_type": "markdown",
   "metadata": {},
   "source": [
    "## Dropping Episodic Games\n",
    "\n",
    "Since I only included PC games released from 2010-2020 that had a metascore, episodic games are usually included multiple times but with different frequencies. Sometimes all the individual episodes and the full game were scored. Most of the time, only a select few of the episodes were scored but not the full game. In this section, I will be dropping the episodes for the games that had their full game scored. "
   ]
  },
  {
   "cell_type": "markdown",
   "metadata": {},
   "source": [
    "### The Wolf Among Us (Telltale)"
   ]
  },
  {
   "cell_type": "code",
   "execution_count": 12,
   "metadata": {
    "scrolled": false
   },
   "outputs": [
    {
     "data": {
      "text/html": [
       "<div>\n",
       "<style scoped>\n",
       "    .dataframe tbody tr th:only-of-type {\n",
       "        vertical-align: middle;\n",
       "    }\n",
       "\n",
       "    .dataframe tbody tr th {\n",
       "        vertical-align: top;\n",
       "    }\n",
       "\n",
       "    .dataframe thead th {\n",
       "        text-align: right;\n",
       "    }\n",
       "</style>\n",
       "<table border=\"1\" class=\"dataframe\">\n",
       "  <thead>\n",
       "    <tr style=\"text-align: right;\">\n",
       "      <th></th>\n",
       "      <th>name</th>\n",
       "      <th>mc_slug</th>\n",
       "      <th>metascore</th>\n",
       "      <th>user_score</th>\n",
       "      <th>date_released</th>\n",
       "      <th>summary</th>\n",
       "      <th>genres</th>\n",
       "      <th>rating</th>\n",
       "      <th>api_id</th>\n",
       "      <th>description</th>\n",
       "    </tr>\n",
       "  </thead>\n",
       "  <tbody>\n",
       "    <tr>\n",
       "      <th>586</th>\n",
       "      <td>The Wolf Among Us: Episode 1 - Faith</td>\n",
       "      <td>the-wolf-among-us-episode-1---faith</td>\n",
       "      <td>85</td>\n",
       "      <td>8.9</td>\n",
       "      <td>Oct 11, 2013</td>\n",
       "      <td>The Wolf Among Us is a 5-episode series from t...</td>\n",
       "      <td>{'Point-and-Click', 'General', 'Fantasy', 'Act...</td>\n",
       "      <td>M</td>\n",
       "      <td>NaN</td>\n",
       "      <td>NaN</td>\n",
       "    </tr>\n",
       "    <tr>\n",
       "      <th>627</th>\n",
       "      <td>The Wolf Among Us</td>\n",
       "      <td>the-wolf-among-us</td>\n",
       "      <td>80</td>\n",
       "      <td>8.8</td>\n",
       "      <td>Oct 11, 2013</td>\n",
       "      <td>Based on the award-winning Fables comic book s...</td>\n",
       "      <td>{'Point-and-Click', 'General', 'Fantasy', 'Act...</td>\n",
       "      <td>M</td>\n",
       "      <td>1682.0</td>\n",
       "      <td>The Wolf Among Us is a five-part episodic game...</td>\n",
       "    </tr>\n",
       "    <tr>\n",
       "      <th>866</th>\n",
       "      <td>The Wolf Among Us: Episode 5 - Cry Wolf</td>\n",
       "      <td>the-wolf-among-us-episode-5---cry-wolf</td>\n",
       "      <td>84</td>\n",
       "      <td>8.8</td>\n",
       "      <td>Jul 8, 2014</td>\n",
       "      <td>Following a bloody trail of murder and corrupt...</td>\n",
       "      <td>{'Point-and-Click', 'General', 'Fantasy', 'Act...</td>\n",
       "      <td>M</td>\n",
       "      <td>NaN</td>\n",
       "      <td>NaN</td>\n",
       "    </tr>\n",
       "    <tr>\n",
       "      <th>879</th>\n",
       "      <td>The Wolf Among Us: Episode 3 - A Crooked Mile</td>\n",
       "      <td>the-wolf-among-us-episode-3---a-crooked-mile</td>\n",
       "      <td>82</td>\n",
       "      <td>8.6</td>\n",
       "      <td>Apr 8, 2014</td>\n",
       "      <td>After discovering damning evidence at a bloody...</td>\n",
       "      <td>{'Point-and-Click', 'General', 'Fantasy', 'Act...</td>\n",
       "      <td>M</td>\n",
       "      <td>NaN</td>\n",
       "      <td>NaN</td>\n",
       "    </tr>\n",
       "    <tr>\n",
       "      <th>946</th>\n",
       "      <td>The Wolf Among Us: Episode 2 - Smoke and Mirrors</td>\n",
       "      <td>the-wolf-among-us-episode-2---smoke-and-mirrors</td>\n",
       "      <td>76</td>\n",
       "      <td>8.3</td>\n",
       "      <td>Feb 4, 2014</td>\n",
       "      <td>The Wolf Among Us is a five episode series fro...</td>\n",
       "      <td>{'Point-and-Click', 'General', 'Fantasy', 'Act...</td>\n",
       "      <td>M</td>\n",
       "      <td>NaN</td>\n",
       "      <td>NaN</td>\n",
       "    </tr>\n",
       "    <tr>\n",
       "      <th>958</th>\n",
       "      <td>The Wolf Among Us: Episode 4 - In Sheep's Clot...</td>\n",
       "      <td>the-wolf-among-us-episode-4---in-sheeps-clothing</td>\n",
       "      <td>75</td>\n",
       "      <td>8.2</td>\n",
       "      <td>May 27, 2014</td>\n",
       "      <td>Summary: The penultimate episode from The Wolf...</td>\n",
       "      <td>{'Point-and-Click', 'General', 'Fantasy', 'Act...</td>\n",
       "      <td>M</td>\n",
       "      <td>NaN</td>\n",
       "      <td>NaN</td>\n",
       "    </tr>\n",
       "  </tbody>\n",
       "</table>\n",
       "</div>"
      ],
      "text/plain": [
       "                                                  name  \\\n",
       "586               The Wolf Among Us: Episode 1 - Faith   \n",
       "627                                  The Wolf Among Us   \n",
       "866            The Wolf Among Us: Episode 5 - Cry Wolf   \n",
       "879      The Wolf Among Us: Episode 3 - A Crooked Mile   \n",
       "946   The Wolf Among Us: Episode 2 - Smoke and Mirrors   \n",
       "958  The Wolf Among Us: Episode 4 - In Sheep's Clot...   \n",
       "\n",
       "                                              mc_slug  metascore  user_score  \\\n",
       "586               the-wolf-among-us-episode-1---faith         85         8.9   \n",
       "627                                 the-wolf-among-us         80         8.8   \n",
       "866            the-wolf-among-us-episode-5---cry-wolf         84         8.8   \n",
       "879      the-wolf-among-us-episode-3---a-crooked-mile         82         8.6   \n",
       "946   the-wolf-among-us-episode-2---smoke-and-mirrors         76         8.3   \n",
       "958  the-wolf-among-us-episode-4---in-sheeps-clothing         75         8.2   \n",
       "\n",
       "    date_released                                            summary  \\\n",
       "586  Oct 11, 2013  The Wolf Among Us is a 5-episode series from t...   \n",
       "627  Oct 11, 2013  Based on the award-winning Fables comic book s...   \n",
       "866   Jul 8, 2014  Following a bloody trail of murder and corrupt...   \n",
       "879   Apr 8, 2014  After discovering damning evidence at a bloody...   \n",
       "946   Feb 4, 2014  The Wolf Among Us is a five episode series fro...   \n",
       "958  May 27, 2014  Summary: The penultimate episode from The Wolf...   \n",
       "\n",
       "                                                genres rating  api_id  \\\n",
       "586  {'Point-and-Click', 'General', 'Fantasy', 'Act...      M     NaN   \n",
       "627  {'Point-and-Click', 'General', 'Fantasy', 'Act...      M  1682.0   \n",
       "866  {'Point-and-Click', 'General', 'Fantasy', 'Act...      M     NaN   \n",
       "879  {'Point-and-Click', 'General', 'Fantasy', 'Act...      M     NaN   \n",
       "946  {'Point-and-Click', 'General', 'Fantasy', 'Act...      M     NaN   \n",
       "958  {'Point-and-Click', 'General', 'Fantasy', 'Act...      M     NaN   \n",
       "\n",
       "                                           description  \n",
       "586                                                NaN  \n",
       "627  The Wolf Among Us is a five-part episodic game...  \n",
       "866                                                NaN  \n",
       "879                                                NaN  \n",
       "946                                                NaN  \n",
       "958                                                NaN  "
      ]
     },
     "execution_count": 12,
     "metadata": {},
     "output_type": "execute_result"
    }
   ],
   "source": [
    "games[games['name'].str.contains('The Wolf Among Us')]"
   ]
  },
  {
   "cell_type": "code",
   "execution_count": 13,
   "metadata": {},
   "outputs": [],
   "source": [
    "# Replace summary of entire game with summary of episode one\n",
    "games.loc[627, 'summary'] = games['summary'][586]\n",
    "\n",
    "# Drop all the individual episodes\n",
    "games.drop(games[games['name'].str.contains('The Wolf Among Us: Ep')].index,\n",
    "           inplace=True)"
   ]
  },
  {
   "cell_type": "code",
   "execution_count": 14,
   "metadata": {},
   "outputs": [
    {
     "data": {
      "text/html": [
       "<div>\n",
       "<style scoped>\n",
       "    .dataframe tbody tr th:only-of-type {\n",
       "        vertical-align: middle;\n",
       "    }\n",
       "\n",
       "    .dataframe tbody tr th {\n",
       "        vertical-align: top;\n",
       "    }\n",
       "\n",
       "    .dataframe thead th {\n",
       "        text-align: right;\n",
       "    }\n",
       "</style>\n",
       "<table border=\"1\" class=\"dataframe\">\n",
       "  <thead>\n",
       "    <tr style=\"text-align: right;\">\n",
       "      <th></th>\n",
       "      <th>name</th>\n",
       "      <th>mc_slug</th>\n",
       "      <th>metascore</th>\n",
       "      <th>user_score</th>\n",
       "      <th>date_released</th>\n",
       "      <th>summary</th>\n",
       "      <th>genres</th>\n",
       "      <th>rating</th>\n",
       "      <th>api_id</th>\n",
       "      <th>description</th>\n",
       "    </tr>\n",
       "  </thead>\n",
       "  <tbody>\n",
       "    <tr>\n",
       "      <th>627</th>\n",
       "      <td>The Wolf Among Us</td>\n",
       "      <td>the-wolf-among-us</td>\n",
       "      <td>80</td>\n",
       "      <td>8.8</td>\n",
       "      <td>Oct 11, 2013</td>\n",
       "      <td>The Wolf Among Us is a 5-episode series from t...</td>\n",
       "      <td>{'Point-and-Click', 'General', 'Fantasy', 'Act...</td>\n",
       "      <td>M</td>\n",
       "      <td>1682.0</td>\n",
       "      <td>The Wolf Among Us is a five-part episodic game...</td>\n",
       "    </tr>\n",
       "  </tbody>\n",
       "</table>\n",
       "</div>"
      ],
      "text/plain": [
       "                  name            mc_slug  metascore  user_score  \\\n",
       "627  The Wolf Among Us  the-wolf-among-us         80         8.8   \n",
       "\n",
       "    date_released                                            summary  \\\n",
       "627  Oct 11, 2013  The Wolf Among Us is a 5-episode series from t...   \n",
       "\n",
       "                                                genres rating  api_id  \\\n",
       "627  {'Point-and-Click', 'General', 'Fantasy', 'Act...      M  1682.0   \n",
       "\n",
       "                                           description  \n",
       "627  The Wolf Among Us is a five-part episodic game...  "
      ]
     },
     "execution_count": 14,
     "metadata": {},
     "output_type": "execute_result"
    }
   ],
   "source": [
    "games[games['name'].str.contains('The Wolf Among Us')]"
   ]
  },
  {
   "cell_type": "markdown",
   "metadata": {},
   "source": [
    "### The Walking Dead (Telltale)\n",
    "\n",
    "- The Walking Dead (Season One)\n",
    "- The Walking Dead: Season Two\n",
    "- The Walking Dead: Michonne\n",
    "- The Walking Dead: A New Frontier\n",
    "- The Walking Dead: The Final Season"
   ]
  },
  {
   "cell_type": "markdown",
   "metadata": {},
   "source": [
    "### Season 1"
   ]
  },
  {
   "cell_type": "code",
   "execution_count": 15,
   "metadata": {},
   "outputs": [],
   "source": [
    "# Fill in api_id\n",
    "games.loc[355, 'api_id'] = 23027\n",
    "\n",
    "# Get description from api\n",
    "games.loc[355, 'description'] = get_clean_descrip(23027)\n",
    "\n",
    "# Drop all the individual episodes\n",
    "games.drop(games[games['name'].str.contains('The Walking Dead: Ep')].index,\n",
    "           inplace=True)"
   ]
  },
  {
   "cell_type": "markdown",
   "metadata": {},
   "source": [
    "### Season 2, Michonne, New Frontier, Final Season"
   ]
  },
  {
   "cell_type": "code",
   "execution_count": 16,
   "metadata": {},
   "outputs": [],
   "source": [
    "# Drop season 2 episodes\n",
    "games.drop(games[games['name'].str.contains('The Walking Dead: Season Two Ep')].index,\n",
    "           inplace=True)\n",
    "\n",
    "# Drop Michonne episodes\n",
    "games.drop(games[games['name'].str.contains('Michonne - Ep')].index,\n",
    "           inplace=True)\n",
    "\n",
    "# Drop New Frontier episodes\n",
    "games.drop(games[games['name'].str.contains('A New Frontier Ep')].index,\n",
    "           inplace=True)\n",
    "\n",
    "# Drop Final Season episodes\n",
    "games.drop(games[games['name'].str.contains('The Final Season Ep')].index,\n",
    "           inplace=True)"
   ]
  },
  {
   "cell_type": "markdown",
   "metadata": {},
   "source": [
    "### Guardians of the Galaxy (Telltale)"
   ]
  },
  {
   "cell_type": "code",
   "execution_count": 17,
   "metadata": {},
   "outputs": [],
   "source": [
    "# Drop episodes\n",
    "games.drop(games[games['name'].str.contains('Galaxy - Ep')].index,\n",
    "           inplace=True)"
   ]
  },
  {
   "cell_type": "markdown",
   "metadata": {},
   "source": [
    "### Batman (Telltale)\n",
    "\n",
    "- Batman: The Telltale Series\n",
    "- Batman: The Enemy Within"
   ]
  },
  {
   "cell_type": "code",
   "execution_count": 18,
   "metadata": {},
   "outputs": [],
   "source": [
    "# Drop episodes\n",
    "games.drop(games[games['name'].str.contains('Batman: The Telltale Series - Ep')].index,\n",
    "           inplace=True)\n",
    "\n",
    "# Drop episodes\n",
    "games.drop(games[games['name'].str.contains('The Enemy Within - Ep')].index,\n",
    "           inplace=True)"
   ]
  },
  {
   "cell_type": "markdown",
   "metadata": {},
   "source": [
    "### Tales from the Borderlands (Telltale)"
   ]
  },
  {
   "cell_type": "code",
   "execution_count": 19,
   "metadata": {},
   "outputs": [],
   "source": [
    "# Drop episodes\n",
    "games.drop(games[games['name'].str.contains('Borderlands: Ep')].index,\n",
    "           inplace=True)"
   ]
  },
  {
   "cell_type": "markdown",
   "metadata": {},
   "source": [
    "### Game of Thrones (Telltale)"
   ]
  },
  {
   "cell_type": "code",
   "execution_count": 20,
   "metadata": {},
   "outputs": [],
   "source": [
    "# Drop episodes\n",
    "games.drop(games[games['name'].str.contains('Game of Thrones: Ep')].index,\n",
    "           inplace=True)"
   ]
  },
  {
   "cell_type": "markdown",
   "metadata": {},
   "source": [
    "### The Council"
   ]
  },
  {
   "cell_type": "code",
   "execution_count": 21,
   "metadata": {},
   "outputs": [],
   "source": [
    "# Drop episodes\n",
    "games.drop(games[games['name'].str.contains('The Council - Ep')].index,\n",
    "           inplace=True)"
   ]
  },
  {
   "cell_type": "markdown",
   "metadata": {},
   "source": [
    "### Kentucky Route Zero"
   ]
  },
  {
   "cell_type": "code",
   "execution_count": 22,
   "metadata": {},
   "outputs": [],
   "source": [
    "# Drop episodes\n",
    "games.drop(games[games['name'].str.contains('Kentucky Route Zero - Act')].index,\n",
    "           inplace=True)"
   ]
  },
  {
   "cell_type": "markdown",
   "metadata": {},
   "source": [
    "### Life is Strange\n",
    "\n",
    "- Life is Strange\n",
    "- Life is Strange: Before the Storm\n",
    "- Life is Strange 2"
   ]
  },
  {
   "cell_type": "code",
   "execution_count": 23,
   "metadata": {},
   "outputs": [],
   "source": [
    "# Drop Life is Strange episodes\n",
    "games.drop(games[games['name'].str.contains('Life is Strange: Ep')].index,\n",
    "           inplace=True)\n",
    "\n",
    "# Drop Life is Strange: Before the Storm episodes\n",
    "games.drop(games[games['name'].str.contains('Life is Strange: Before the Storm - Ep')].index,\n",
    "           inplace=True)\n",
    "\n",
    "# Drop Life is Strange 2 episodes\n",
    "games.drop(games[games['name'].str.contains('Life is Strange 2: Ep')].index,\n",
    "           inplace=True)"
   ]
  },
  {
   "cell_type": "markdown",
   "metadata": {},
   "source": [
    "### Resident Evil Revelations 2"
   ]
  },
  {
   "cell_type": "code",
   "execution_count": 24,
   "metadata": {},
   "outputs": [],
   "source": [
    "# Drop episodes\n",
    "games.drop(games[games['name'].str.contains('Revelations 2 - Ep')].index,\n",
    "           inplace=True)"
   ]
  },
  {
   "cell_type": "markdown",
   "metadata": {},
   "source": [
    "### Broken Age"
   ]
  },
  {
   "cell_type": "code",
   "execution_count": 25,
   "metadata": {},
   "outputs": [],
   "source": [
    "# Drop acts\n",
    "games.drop(games[games['name'].str.contains('Broken Age: Act')].index,\n",
    "           inplace=True)"
   ]
  },
  {
   "cell_type": "markdown",
   "metadata": {},
   "source": [
    "### The Raven: Legacy of a Master Thief"
   ]
  },
  {
   "cell_type": "code",
   "execution_count": 26,
   "metadata": {},
   "outputs": [],
   "source": [
    "# Drop chapters\n",
    "games.drop(games[games['name'].str.contains('Master Thief -')].index,\n",
    "           inplace=True)"
   ]
  },
  {
   "cell_type": "markdown",
   "metadata": {},
   "source": [
    "### Dreamfall Chapters"
   ]
  },
  {
   "cell_type": "code",
   "execution_count": 27,
   "metadata": {},
   "outputs": [],
   "source": [
    "# Drop books\n",
    "games.drop(games[games['name'].str.contains('Dreamfall Chapters Book')].index,\n",
    "           inplace=True)"
   ]
  },
  {
   "cell_type": "markdown",
   "metadata": {},
   "source": [
    "## Combining Episodic Games\n",
    "\n",
    "Not every episode in a game or the full game had a metascore. So for those that only had a few episodes scored but not the full game, I created a new row for the full game with data scraped from Metacritic and dropped the individual episodes. For games that had all the episodes listed but not the full game, I combined them into one."
   ]
  },
  {
   "cell_type": "markdown",
   "metadata": {},
   "source": [
    "### Minecraft: Story Mode (Telltale)\n",
    "\n",
    "- Season 1\n",
    "- Season 2"
   ]
  },
  {
   "cell_type": "code",
   "execution_count": 28,
   "metadata": {},
   "outputs": [],
   "source": [
    "# Create the two main games (season 1 and season 2)\n",
    "# https://www.metacritic.com/game/pc/minecraft-story-mode---a-telltale-games-series---the-complete-adventure\n",
    "minecraft1 = {\n",
    "    'name': \"Minecraft: Story Mode - A Telltale Games Series - The Complete Edition\",\n",
    "    'mc_slug': 'minecraft-story-mode---a-telltale-games-series---the-complete-adventure',\n",
    "    'metascore': np.nan,\n",
    "    'user_score': 6.5,\n",
    "    'date_released': 'Oct 25, 2016',\n",
    "    'summary': \"Summary: As Jesse, you will embark on a perilous adventure across the Overworld, through the Nether, to the End, and beyond.\",\n",
    "    'genres': {'Adventure', 'Point-and-Click'},\n",
    "    'rating': 'E10+',\n",
    "    'api_id': 15916,\n",
    "    'description': get_clean_descrip(15916)\n",
    "}\n",
    "\n",
    "# https://www.metacritic.com/game/pc/minecraft-story-mode---season-two-the-telltale-series\n",
    "minecraft2 = {\n",
    "    'name': \"Minecraft: Story Mode - Season Two: The Telltale Series\",\n",
    "    'mc_slug': 'minecraft-story-mode---season-two-the-telltale-series',\n",
    "    'metascore': np.nan,\n",
    "    'user_score': 3.1,\n",
    "    'date_released': 'Jul 11, 2017',\n",
    "    'summary': \"Summary: Together with old pals and new comrades alike, Jesse embarks on a brand new journey filled with tough choices, good times, and at least one temperamental llama.\",\n",
    "    'genres': {'Adventure', 'Point-and-Click'},\n",
    "    'rating': 'E10+',\n",
    "    'api_id': 28039,\n",
    "    'description': get_clean_descrip(28039)\n",
    "}\n",
    "\n",
    "# Drop episodes\n",
    "games.drop(games[games['name'].str.contains('Minecraft: Story')].index,\n",
    "           inplace=True)\n",
    "\n",
    "# Append main games to df\n",
    "games = games.append(minecraft1, ignore_index=True)\n",
    "games = games.append(minecraft2, ignore_index=True)"
   ]
  },
  {
   "cell_type": "code",
   "execution_count": 29,
   "metadata": {},
   "outputs": [
    {
     "data": {
      "text/html": [
       "<div>\n",
       "<style scoped>\n",
       "    .dataframe tbody tr th:only-of-type {\n",
       "        vertical-align: middle;\n",
       "    }\n",
       "\n",
       "    .dataframe tbody tr th {\n",
       "        vertical-align: top;\n",
       "    }\n",
       "\n",
       "    .dataframe thead th {\n",
       "        text-align: right;\n",
       "    }\n",
       "</style>\n",
       "<table border=\"1\" class=\"dataframe\">\n",
       "  <thead>\n",
       "    <tr style=\"text-align: right;\">\n",
       "      <th></th>\n",
       "      <th>name</th>\n",
       "      <th>mc_slug</th>\n",
       "      <th>metascore</th>\n",
       "      <th>user_score</th>\n",
       "      <th>date_released</th>\n",
       "      <th>summary</th>\n",
       "      <th>genres</th>\n",
       "      <th>rating</th>\n",
       "      <th>api_id</th>\n",
       "      <th>description</th>\n",
       "    </tr>\n",
       "  </thead>\n",
       "  <tbody>\n",
       "    <tr>\n",
       "      <th>2576</th>\n",
       "      <td>Minecraft: Story Mode - A Telltale Games Serie...</td>\n",
       "      <td>minecraft-story-mode---a-telltale-games-series...</td>\n",
       "      <td>NaN</td>\n",
       "      <td>6.5</td>\n",
       "      <td>Oct 25, 2016</td>\n",
       "      <td>Summary: As Jesse, you will embark on a perilo...</td>\n",
       "      <td>{Point-and-Click, Adventure}</td>\n",
       "      <td>E10+</td>\n",
       "      <td>15916.0</td>\n",
       "      <td>Minecraft: Story Mode is an action-adventure g...</td>\n",
       "    </tr>\n",
       "    <tr>\n",
       "      <th>2577</th>\n",
       "      <td>Minecraft: Story Mode - Season Two: The Tellta...</td>\n",
       "      <td>minecraft-story-mode---season-two-the-telltale...</td>\n",
       "      <td>NaN</td>\n",
       "      <td>3.1</td>\n",
       "      <td>Jul 11, 2017</td>\n",
       "      <td>Summary: Together with old pals and new comrad...</td>\n",
       "      <td>{Point-and-Click, Adventure}</td>\n",
       "      <td>E10+</td>\n",
       "      <td>28039.0</td>\n",
       "      <td>Now that Jesse and the gang have vanquished th...</td>\n",
       "    </tr>\n",
       "  </tbody>\n",
       "</table>\n",
       "</div>"
      ],
      "text/plain": [
       "                                                   name  \\\n",
       "2576  Minecraft: Story Mode - A Telltale Games Serie...   \n",
       "2577  Minecraft: Story Mode - Season Two: The Tellta...   \n",
       "\n",
       "                                                mc_slug  metascore  \\\n",
       "2576  minecraft-story-mode---a-telltale-games-series...        NaN   \n",
       "2577  minecraft-story-mode---season-two-the-telltale...        NaN   \n",
       "\n",
       "      user_score date_released  \\\n",
       "2576         6.5  Oct 25, 2016   \n",
       "2577         3.1  Jul 11, 2017   \n",
       "\n",
       "                                                summary  \\\n",
       "2576  Summary: As Jesse, you will embark on a perilo...   \n",
       "2577  Summary: Together with old pals and new comrad...   \n",
       "\n",
       "                            genres rating   api_id  \\\n",
       "2576  {Point-and-Click, Adventure}   E10+  15916.0   \n",
       "2577  {Point-and-Click, Adventure}   E10+  28039.0   \n",
       "\n",
       "                                            description  \n",
       "2576  Minecraft: Story Mode is an action-adventure g...  \n",
       "2577  Now that Jesse and the gang have vanquished th...  "
      ]
     },
     "execution_count": 29,
     "metadata": {},
     "output_type": "execute_result"
    }
   ],
   "source": [
    "games.tail(2)"
   ]
  },
  {
   "cell_type": "markdown",
   "metadata": {},
   "source": [
    "### Sam & Max (Telltale)"
   ]
  },
  {
   "cell_type": "code",
   "execution_count": 30,
   "metadata": {},
   "outputs": [],
   "source": [
    "# https://www.metacritic.com/game/pc/sam-max-the-devils-playhouse\n",
    "sam_max = {\n",
    "    'name': \"Sam & Max: The Devil's Playhouse\",\n",
    "    'mc_slug': 'sam-max-the-devils-playhouse',\n",
    "    'metascore': np.nan,\n",
    "    'user_score': 7.8,\n",
    "    'date_released': 'Apr 15, 2010',\n",
    "    'summary': scrape_summary('sam-max-the-devils-playhouse'),\n",
    "    'genres': scrape_genre('sam-max-the-devils-playhouse'),\n",
    "    'rating': np.nan,\n",
    "    'api_id': np.nan,\n",
    "    'description': np.nan\n",
    "}\n",
    "\n",
    "# Drop episodes\n",
    "games.drop(games[games['name'].str.contains('Sam & Max')].index,\n",
    "           inplace=True)\n",
    "\n",
    "# Append to df\n",
    "games = games.append(sam_max, ignore_index=True)"
   ]
  },
  {
   "cell_type": "markdown",
   "metadata": {},
   "source": [
    "### Cognition"
   ]
  },
  {
   "cell_type": "code",
   "execution_count": 31,
   "metadata": {},
   "outputs": [],
   "source": [
    "# https://www.metacritic.com/game/pc/cognition-an-erica-reed-thriller\n",
    "cognition = {\n",
    "    'name': \"Cognition: An Erica Reed Thriller\",\n",
    "    'mc_slug': 'cognition-an-erica-reed-thriller',\n",
    "    'metascore': np.nan,\n",
    "    'user_score': 8.0,\n",
    "    'date_released': 'Sep 19, 2013',\n",
    "    'summary': scrape_summary('cognition-an-erica-reed-thriller'),\n",
    "    'genres': scrape_genre('cognition-an-erica-reed-thriller'),\n",
    "    'rating': np.nan,\n",
    "    'api_id': 17039,\n",
    "    'description': get_clean_descrip(17039)\n",
    "}\n",
    "\n",
    "# Drop episodes\n",
    "games.drop(games[games['name'].str.contains('Erica Reed Thriller Ep')].index,\n",
    "           inplace=True)\n",
    "\n",
    "# Append to df\n",
    "games = games.append(cognition, ignore_index=True)"
   ]
  },
  {
   "cell_type": "markdown",
   "metadata": {},
   "source": [
    "### Back to the Future (Telltale)"
   ]
  },
  {
   "cell_type": "code",
   "execution_count": 32,
   "metadata": {},
   "outputs": [],
   "source": [
    "# https://www.metacritic.com/game/pc/back-to-the-future-the-game\n",
    "future = {\n",
    "    'name': \"Back to the Future: The Game\",\n",
    "    'mc_slug': 'back-to-the-future-the-game',\n",
    "    'metascore': np.nan,\n",
    "    'user_score': 7.3,\n",
    "    'date_released': 'Dec 23, 2010',\n",
    "    'summary': scrape_summary('back-to-the-future-the-game'),\n",
    "    'genres': scrape_genre('back-to-the-future-the-game'),\n",
    "    'rating': 'T',\n",
    "    'api_id': 5877,\n",
    "    'description': get_clean_descrip(5877)\n",
    "}\n",
    "\n",
    "# Drop episodes\n",
    "games.drop(games[games['name'].str.contains('Back to the Future: The Game - Ep')].index,\n",
    "           inplace=True)\n",
    "\n",
    "# Append to df\n",
    "games = games.append(future, ignore_index=True)"
   ]
  },
  {
   "cell_type": "markdown",
   "metadata": {},
   "source": [
    "### Bear with Me"
   ]
  },
  {
   "cell_type": "code",
   "execution_count": 33,
   "metadata": {},
   "outputs": [
    {
     "data": {
      "text/html": [
       "<div>\n",
       "<style scoped>\n",
       "    .dataframe tbody tr th:only-of-type {\n",
       "        vertical-align: middle;\n",
       "    }\n",
       "\n",
       "    .dataframe tbody tr th {\n",
       "        vertical-align: top;\n",
       "    }\n",
       "\n",
       "    .dataframe thead th {\n",
       "        text-align: right;\n",
       "    }\n",
       "</style>\n",
       "<table border=\"1\" class=\"dataframe\">\n",
       "  <thead>\n",
       "    <tr style=\"text-align: right;\">\n",
       "      <th></th>\n",
       "      <th>name</th>\n",
       "      <th>mc_slug</th>\n",
       "      <th>metascore</th>\n",
       "      <th>user_score</th>\n",
       "      <th>date_released</th>\n",
       "      <th>summary</th>\n",
       "      <th>genres</th>\n",
       "      <th>rating</th>\n",
       "      <th>api_id</th>\n",
       "      <th>description</th>\n",
       "    </tr>\n",
       "  </thead>\n",
       "  <tbody>\n",
       "    <tr>\n",
       "      <th>1590</th>\n",
       "      <td>Bear With Me: Episode 1</td>\n",
       "      <td>bear-with-me-episode-1</td>\n",
       "      <td>68.0</td>\n",
       "      <td>6.1</td>\n",
       "      <td>Aug 8, 2016</td>\n",
       "      <td>Summary: Bear With Me is an episodic noir adve...</td>\n",
       "      <td>{'Point-and-Click', 'Adventure'}</td>\n",
       "      <td>NaN</td>\n",
       "      <td>NaN</td>\n",
       "      <td>NaN</td>\n",
       "    </tr>\n",
       "  </tbody>\n",
       "</table>\n",
       "</div>"
      ],
      "text/plain": [
       "                         name                 mc_slug  metascore  user_score  \\\n",
       "1590  Bear With Me: Episode 1  bear-with-me-episode-1       68.0         6.1   \n",
       "\n",
       "     date_released                                            summary  \\\n",
       "1590   Aug 8, 2016  Summary: Bear With Me is an episodic noir adve...   \n",
       "\n",
       "                                genres rating  api_id description  \n",
       "1590  {'Point-and-Click', 'Adventure'}    NaN     NaN         NaN  "
      ]
     },
     "execution_count": 33,
     "metadata": {},
     "output_type": "execute_result"
    }
   ],
   "source": [
    "games[games['name'].str.contains('Bear')]"
   ]
  },
  {
   "cell_type": "code",
   "execution_count": 34,
   "metadata": {},
   "outputs": [],
   "source": [
    "# Update existing info with whole game info\n",
    "# https://www.metacritic.com/game/pc/bear-with-me\n",
    "\n",
    "games.loc[1590, 'name'] = \"Bear With Me\"\n",
    "games.loc[1590, 'mc_slug'] = 'bear-with-me'\n",
    "games.loc[1590, 'metascore'] = np.nan\n",
    "games.loc[1590, 'user_score'] = 6.4\n",
    "games.loc[1590, 'api_id'] = 12738\n",
    "games.loc[1590, 'description'] = get_clean_descrip(12738)"
   ]
  },
  {
   "cell_type": "code",
   "execution_count": 35,
   "metadata": {},
   "outputs": [
    {
     "data": {
      "text/html": [
       "<div>\n",
       "<style scoped>\n",
       "    .dataframe tbody tr th:only-of-type {\n",
       "        vertical-align: middle;\n",
       "    }\n",
       "\n",
       "    .dataframe tbody tr th {\n",
       "        vertical-align: top;\n",
       "    }\n",
       "\n",
       "    .dataframe thead th {\n",
       "        text-align: right;\n",
       "    }\n",
       "</style>\n",
       "<table border=\"1\" class=\"dataframe\">\n",
       "  <thead>\n",
       "    <tr style=\"text-align: right;\">\n",
       "      <th></th>\n",
       "      <th>name</th>\n",
       "      <th>mc_slug</th>\n",
       "      <th>metascore</th>\n",
       "      <th>user_score</th>\n",
       "      <th>date_released</th>\n",
       "      <th>summary</th>\n",
       "      <th>genres</th>\n",
       "      <th>rating</th>\n",
       "      <th>api_id</th>\n",
       "      <th>description</th>\n",
       "    </tr>\n",
       "  </thead>\n",
       "  <tbody>\n",
       "    <tr>\n",
       "      <th>1590</th>\n",
       "      <td>Bear With Me</td>\n",
       "      <td>bear-with-me</td>\n",
       "      <td>NaN</td>\n",
       "      <td>6.4</td>\n",
       "      <td>Aug 8, 2016</td>\n",
       "      <td>Summary: Bear With Me is an episodic noir adve...</td>\n",
       "      <td>{'Point-and-Click', 'Adventure'}</td>\n",
       "      <td>NaN</td>\n",
       "      <td>12738.0</td>\n",
       "      <td>Bear With Me is an episodic noir adventure gam...</td>\n",
       "    </tr>\n",
       "  </tbody>\n",
       "</table>\n",
       "</div>"
      ],
      "text/plain": [
       "              name       mc_slug  metascore  user_score date_released  \\\n",
       "1590  Bear With Me  bear-with-me        NaN         6.4   Aug 8, 2016   \n",
       "\n",
       "                                                summary  \\\n",
       "1590  Summary: Bear With Me is an episodic noir adve...   \n",
       "\n",
       "                                genres rating   api_id  \\\n",
       "1590  {'Point-and-Click', 'Adventure'}    NaN  12738.0   \n",
       "\n",
       "                                            description  \n",
       "1590  Bear With Me is an episodic noir adventure gam...  "
      ]
     },
     "execution_count": 35,
     "metadata": {},
     "output_type": "execute_result"
    }
   ],
   "source": [
    "games[games['name'].str.contains('Bear')]"
   ]
  },
  {
   "cell_type": "markdown",
   "metadata": {},
   "source": [
    "### Hector\n",
    "\n",
    "- No metacritic info for full game, substitute with info from Episode 1\n",
    "- Average meta and user scores for all 3 episodes"
   ]
  },
  {
   "cell_type": "code",
   "execution_count": 36,
   "metadata": {},
   "outputs": [],
   "source": [
    "# Will use this to get an averaged metascore and user score\n",
    "hector_eps = games[games['name'].str.contains('Hector')]"
   ]
  },
  {
   "cell_type": "code",
   "execution_count": 37,
   "metadata": {},
   "outputs": [
    {
     "data": {
      "text/html": [
       "<div>\n",
       "<style scoped>\n",
       "    .dataframe tbody tr th:only-of-type {\n",
       "        vertical-align: middle;\n",
       "    }\n",
       "\n",
       "    .dataframe tbody tr th {\n",
       "        vertical-align: top;\n",
       "    }\n",
       "\n",
       "    .dataframe thead th {\n",
       "        text-align: right;\n",
       "    }\n",
       "</style>\n",
       "<table border=\"1\" class=\"dataframe\">\n",
       "  <thead>\n",
       "    <tr style=\"text-align: right;\">\n",
       "      <th></th>\n",
       "      <th>name</th>\n",
       "      <th>mc_slug</th>\n",
       "      <th>metascore</th>\n",
       "      <th>user_score</th>\n",
       "      <th>date_released</th>\n",
       "      <th>summary</th>\n",
       "      <th>genres</th>\n",
       "      <th>rating</th>\n",
       "      <th>api_id</th>\n",
       "      <th>description</th>\n",
       "    </tr>\n",
       "  </thead>\n",
       "  <tbody>\n",
       "    <tr>\n",
       "      <th>227</th>\n",
       "      <td>Hector: Badge of Carnage - Episode 1: We Negot...</td>\n",
       "      <td>hector-badge-of-carnage---episode-1-we-negotia...</td>\n",
       "      <td>75.0</td>\n",
       "      <td>6.7</td>\n",
       "      <td>Apr 27, 2011</td>\n",
       "      <td>Summary: Hector: Badge of Carnage, is a lewd, ...</td>\n",
       "      <td>{'General', 'Role-Playing', 'Action Adventure'...</td>\n",
       "      <td>NaN</td>\n",
       "      <td>40756.0</td>\n",
       "      <td>Hector: Badge of Carnage! Episode 1 - We Negot...</td>\n",
       "    </tr>\n",
       "    <tr>\n",
       "      <th>237</th>\n",
       "      <td>Hector: Badge of Carnage - Episode 2: Senseles...</td>\n",
       "      <td>hector-badge-of-carnage---episode-2-senseless-...</td>\n",
       "      <td>73.0</td>\n",
       "      <td>5.9</td>\n",
       "      <td>Aug 25, 2011</td>\n",
       "      <td>Senseless Acts of Justice is a sequel fans wil...</td>\n",
       "      <td>{'General', 'Action Adventure', 'Adventure', '...</td>\n",
       "      <td>NaN</td>\n",
       "      <td>41040.0</td>\n",
       "      <td>Hector: Badge of Carnage! Episode 2 - Senseles...</td>\n",
       "    </tr>\n",
       "    <tr>\n",
       "      <th>251</th>\n",
       "      <td>Hector: Badge of Carnage - Episode 3: Beyond R...</td>\n",
       "      <td>hector-badge-of-carnage---episode-3-beyond-rea...</td>\n",
       "      <td>70.0</td>\n",
       "      <td>6.5</td>\n",
       "      <td>Sep 22, 2011</td>\n",
       "      <td>NaN</td>\n",
       "      <td>{'General', 'Action Adventure', 'Adventure', '...</td>\n",
       "      <td>NaN</td>\n",
       "      <td>41041.0</td>\n",
       "      <td>Hector: Badge of Carnage! Episode 3 - Beyond R...</td>\n",
       "    </tr>\n",
       "  </tbody>\n",
       "</table>\n",
       "</div>"
      ],
      "text/plain": [
       "                                                  name  \\\n",
       "227  Hector: Badge of Carnage - Episode 1: We Negot...   \n",
       "237  Hector: Badge of Carnage - Episode 2: Senseles...   \n",
       "251  Hector: Badge of Carnage - Episode 3: Beyond R...   \n",
       "\n",
       "                                               mc_slug  metascore  user_score  \\\n",
       "227  hector-badge-of-carnage---episode-1-we-negotia...       75.0         6.7   \n",
       "237  hector-badge-of-carnage---episode-2-senseless-...       73.0         5.9   \n",
       "251  hector-badge-of-carnage---episode-3-beyond-rea...       70.0         6.5   \n",
       "\n",
       "    date_released                                            summary  \\\n",
       "227  Apr 27, 2011  Summary: Hector: Badge of Carnage, is a lewd, ...   \n",
       "237  Aug 25, 2011  Senseless Acts of Justice is a sequel fans wil...   \n",
       "251  Sep 22, 2011                                                NaN   \n",
       "\n",
       "                                                genres rating   api_id  \\\n",
       "227  {'General', 'Role-Playing', 'Action Adventure'...    NaN  40756.0   \n",
       "237  {'General', 'Action Adventure', 'Adventure', '...    NaN  41040.0   \n",
       "251  {'General', 'Action Adventure', 'Adventure', '...    NaN  41041.0   \n",
       "\n",
       "                                           description  \n",
       "227  Hector: Badge of Carnage! Episode 1 - We Negot...  \n",
       "237  Hector: Badge of Carnage! Episode 2 - Senseles...  \n",
       "251  Hector: Badge of Carnage! Episode 3 - Beyond R...  "
      ]
     },
     "execution_count": 37,
     "metadata": {},
     "output_type": "execute_result"
    }
   ],
   "source": [
    "hector_eps"
   ]
  },
  {
   "cell_type": "code",
   "execution_count": 38,
   "metadata": {},
   "outputs": [],
   "source": [
    "# Update episode one with full game info\n",
    "\n",
    "games.loc[227, 'name'] = \"Hector: Badge of Carnage - Full Series\"\n",
    "games.loc[227, 'metascore'] = round(hector_eps['metascore'].mean())\n",
    "games.loc[227, 'user_score'] = round(hector_eps['user_score'].mean(), 1)\n",
    "games.loc[227, 'api_id'] = 18850\n",
    "games.loc[227, 'description'] = get_clean_descrip(18850)\n",
    "\n",
    "# Drop episodes\n",
    "games.drop(games[games['name'].str.contains('Carnage - Ep')].index,\n",
    "           inplace=True)"
   ]
  },
  {
   "cell_type": "code",
   "execution_count": 39,
   "metadata": {},
   "outputs": [
    {
     "data": {
      "text/html": [
       "<div>\n",
       "<style scoped>\n",
       "    .dataframe tbody tr th:only-of-type {\n",
       "        vertical-align: middle;\n",
       "    }\n",
       "\n",
       "    .dataframe tbody tr th {\n",
       "        vertical-align: top;\n",
       "    }\n",
       "\n",
       "    .dataframe thead th {\n",
       "        text-align: right;\n",
       "    }\n",
       "</style>\n",
       "<table border=\"1\" class=\"dataframe\">\n",
       "  <thead>\n",
       "    <tr style=\"text-align: right;\">\n",
       "      <th></th>\n",
       "      <th>name</th>\n",
       "      <th>mc_slug</th>\n",
       "      <th>metascore</th>\n",
       "      <th>user_score</th>\n",
       "      <th>date_released</th>\n",
       "      <th>summary</th>\n",
       "      <th>genres</th>\n",
       "      <th>rating</th>\n",
       "      <th>api_id</th>\n",
       "      <th>description</th>\n",
       "    </tr>\n",
       "  </thead>\n",
       "  <tbody>\n",
       "    <tr>\n",
       "      <th>227</th>\n",
       "      <td>Hector: Badge of Carnage - Full Series</td>\n",
       "      <td>hector-badge-of-carnage---episode-1-we-negotia...</td>\n",
       "      <td>73.0</td>\n",
       "      <td>6.4</td>\n",
       "      <td>Apr 27, 2011</td>\n",
       "      <td>Summary: Hector: Badge of Carnage, is a lewd, ...</td>\n",
       "      <td>{'General', 'Role-Playing', 'Action Adventure'...</td>\n",
       "      <td>NaN</td>\n",
       "      <td>18850.0</td>\n",
       "      <td>Hector Badge of Carnage Full Series is a three...</td>\n",
       "    </tr>\n",
       "  </tbody>\n",
       "</table>\n",
       "</div>"
      ],
      "text/plain": [
       "                                       name  \\\n",
       "227  Hector: Badge of Carnage - Full Series   \n",
       "\n",
       "                                               mc_slug  metascore  user_score  \\\n",
       "227  hector-badge-of-carnage---episode-1-we-negotia...       73.0         6.4   \n",
       "\n",
       "    date_released                                            summary  \\\n",
       "227  Apr 27, 2011  Summary: Hector: Badge of Carnage, is a lewd, ...   \n",
       "\n",
       "                                                genres rating   api_id  \\\n",
       "227  {'General', 'Role-Playing', 'Action Adventure'...    NaN  18850.0   \n",
       "\n",
       "                                           description  \n",
       "227  Hector Badge of Carnage Full Series is a three...  "
      ]
     },
     "execution_count": 39,
     "metadata": {},
     "output_type": "execute_result"
    }
   ],
   "source": [
    "games[games['name'].str.contains('Hector')]"
   ]
  },
  {
   "cell_type": "markdown",
   "metadata": {},
   "source": [
    "### Republique\n",
    "- Rename Episode 1 to just Republique.\n",
    "- Update meta and user score accordingly\n",
    "- Update description from Steam"
   ]
  },
  {
   "cell_type": "code",
   "execution_count": 40,
   "metadata": {},
   "outputs": [],
   "source": [
    "# Function for scraping summary descriptions off Steam\n",
    "def scrape_steam(url):\n",
    "    user_agent = # your user agent here\n",
    "    headers = {'User-Agent': user_agent}\n",
    "\n",
    "    res = requests.get(url, headers=headers)\n",
    "    soup = BeautifulSoup(res.content, 'lxml')\n",
    " \n",
    "    summary = soup.find('div', {'class': 'game_description_snippet'}).get_text()\n",
    "    s = summary.split()\n",
    "\n",
    "    return \" \".join(s)\n"
   ]
  },
  {
   "cell_type": "code",
   "execution_count": 41,
   "metadata": {},
   "outputs": [
    {
     "data": {
      "text/html": [
       "<div>\n",
       "<style scoped>\n",
       "    .dataframe tbody tr th:only-of-type {\n",
       "        vertical-align: middle;\n",
       "    }\n",
       "\n",
       "    .dataframe tbody tr th {\n",
       "        vertical-align: top;\n",
       "    }\n",
       "\n",
       "    .dataframe thead th {\n",
       "        text-align: right;\n",
       "    }\n",
       "</style>\n",
       "<table border=\"1\" class=\"dataframe\">\n",
       "  <thead>\n",
       "    <tr style=\"text-align: right;\">\n",
       "      <th></th>\n",
       "      <th>name</th>\n",
       "      <th>mc_slug</th>\n",
       "      <th>metascore</th>\n",
       "      <th>user_score</th>\n",
       "      <th>date_released</th>\n",
       "      <th>summary</th>\n",
       "      <th>genres</th>\n",
       "      <th>rating</th>\n",
       "      <th>api_id</th>\n",
       "      <th>description</th>\n",
       "    </tr>\n",
       "  </thead>\n",
       "  <tbody>\n",
       "    <tr>\n",
       "      <th>1156</th>\n",
       "      <td>Republique: Episode 1 - Exordium</td>\n",
       "      <td>republique-episode-1---exordium</td>\n",
       "      <td>77.0</td>\n",
       "      <td>7.5</td>\n",
       "      <td>Feb 25, 2015</td>\n",
       "      <td>Summary: Republique Remastered is a topical st...</td>\n",
       "      <td>{'Linear', 'Action Adventure'}</td>\n",
       "      <td>NaN</td>\n",
       "      <td>41405.0</td>\n",
       "      <td>République: Episode 1 - Exordium is an adventu...</td>\n",
       "    </tr>\n",
       "    <tr>\n",
       "      <th>1314</th>\n",
       "      <td>Republique: Episode 4 - God's Acre</td>\n",
       "      <td>republique-episode-4---gods-acre</td>\n",
       "      <td>63.0</td>\n",
       "      <td>NaN</td>\n",
       "      <td>Dec 17, 2015</td>\n",
       "      <td>Summary: You receive a desperate call from Hop...</td>\n",
       "      <td>{'Linear', 'Action Adventure'}</td>\n",
       "      <td>NaN</td>\n",
       "      <td>NaN</td>\n",
       "      <td>NaN</td>\n",
       "    </tr>\n",
       "  </tbody>\n",
       "</table>\n",
       "</div>"
      ],
      "text/plain": [
       "                                    name                           mc_slug  \\\n",
       "1156    Republique: Episode 1 - Exordium   republique-episode-1---exordium   \n",
       "1314  Republique: Episode 4 - God's Acre  republique-episode-4---gods-acre   \n",
       "\n",
       "      metascore  user_score date_released  \\\n",
       "1156       77.0         7.5  Feb 25, 2015   \n",
       "1314       63.0         NaN  Dec 17, 2015   \n",
       "\n",
       "                                                summary  \\\n",
       "1156  Summary: Republique Remastered is a topical st...   \n",
       "1314  Summary: You receive a desperate call from Hop...   \n",
       "\n",
       "                              genres rating   api_id  \\\n",
       "1156  {'Linear', 'Action Adventure'}    NaN  41405.0   \n",
       "1314  {'Linear', 'Action Adventure'}    NaN      NaN   \n",
       "\n",
       "                                            description  \n",
       "1156  République: Episode 1 - Exordium is an adventu...  \n",
       "1314                                                NaN  "
      ]
     },
     "execution_count": 41,
     "metadata": {},
     "output_type": "execute_result"
    }
   ],
   "source": [
    "games[games['name'].str.contains('Republique')]"
   ]
  },
  {
   "cell_type": "code",
   "execution_count": 42,
   "metadata": {},
   "outputs": [],
   "source": [
    "# https://www.metacritic.com/game/pc/republique-remastered\n",
    "# https://store.steampowered.com/app/317100/Republique/\n",
    "\n",
    "games.loc[1156, 'name'] = 'Republique'\n",
    "games.loc[1156, 'mc_slug'] = 'republique-remastered'\n",
    "games.loc[1156, 'metascore'] = np.nan\n",
    "games.loc[1156, 'user_score'] = 6.3\n",
    "games.loc[1156, 'api_id'] = 496\n",
    "games.loc[1156, 'description'] = scrape_steam('https://store.steampowered.com/app/317100/Republique/')\n",
    "\n",
    "# Drop episodes\n",
    "games.drop(games[games['name'].str.contains('Republique: Ep')].index,\n",
    "           inplace=True)"
   ]
  },
  {
   "cell_type": "code",
   "execution_count": 43,
   "metadata": {},
   "outputs": [
    {
     "data": {
      "text/html": [
       "<div>\n",
       "<style scoped>\n",
       "    .dataframe tbody tr th:only-of-type {\n",
       "        vertical-align: middle;\n",
       "    }\n",
       "\n",
       "    .dataframe tbody tr th {\n",
       "        vertical-align: top;\n",
       "    }\n",
       "\n",
       "    .dataframe thead th {\n",
       "        text-align: right;\n",
       "    }\n",
       "</style>\n",
       "<table border=\"1\" class=\"dataframe\">\n",
       "  <thead>\n",
       "    <tr style=\"text-align: right;\">\n",
       "      <th></th>\n",
       "      <th>name</th>\n",
       "      <th>mc_slug</th>\n",
       "      <th>metascore</th>\n",
       "      <th>user_score</th>\n",
       "      <th>date_released</th>\n",
       "      <th>summary</th>\n",
       "      <th>genres</th>\n",
       "      <th>rating</th>\n",
       "      <th>api_id</th>\n",
       "      <th>description</th>\n",
       "    </tr>\n",
       "  </thead>\n",
       "  <tbody>\n",
       "    <tr>\n",
       "      <th>1156</th>\n",
       "      <td>Republique</td>\n",
       "      <td>republique-remastered</td>\n",
       "      <td>NaN</td>\n",
       "      <td>6.3</td>\n",
       "      <td>Feb 25, 2015</td>\n",
       "      <td>Summary: Republique Remastered is a topical st...</td>\n",
       "      <td>{'Linear', 'Action Adventure'}</td>\n",
       "      <td>NaN</td>\n",
       "      <td>496.0</td>\n",
       "      <td>Help a woman named Hope escape in a thrilling ...</td>\n",
       "    </tr>\n",
       "  </tbody>\n",
       "</table>\n",
       "</div>"
      ],
      "text/plain": [
       "            name                mc_slug  metascore  user_score date_released  \\\n",
       "1156  Republique  republique-remastered        NaN         6.3  Feb 25, 2015   \n",
       "\n",
       "                                                summary  \\\n",
       "1156  Summary: Republique Remastered is a topical st...   \n",
       "\n",
       "                              genres rating  api_id  \\\n",
       "1156  {'Linear', 'Action Adventure'}    NaN   496.0   \n",
       "\n",
       "                                            description  \n",
       "1156  Help a woman named Hope escape in a thrilling ...  "
      ]
     },
     "execution_count": 43,
     "metadata": {},
     "output_type": "execute_result"
    }
   ],
   "source": [
    "games[games['name'].str.contains('Republique')]"
   ]
  },
  {
   "cell_type": "markdown",
   "metadata": {},
   "source": [
    "### Penny Arcade\n",
    "\n",
    "Correct the name, API ID, and description."
   ]
  },
  {
   "cell_type": "code",
   "execution_count": 44,
   "metadata": {},
   "outputs": [
    {
     "data": {
      "text/html": [
       "<div>\n",
       "<style scoped>\n",
       "    .dataframe tbody tr th:only-of-type {\n",
       "        vertical-align: middle;\n",
       "    }\n",
       "\n",
       "    .dataframe tbody tr th {\n",
       "        vertical-align: top;\n",
       "    }\n",
       "\n",
       "    .dataframe thead th {\n",
       "        text-align: right;\n",
       "    }\n",
       "</style>\n",
       "<table border=\"1\" class=\"dataframe\">\n",
       "  <thead>\n",
       "    <tr style=\"text-align: right;\">\n",
       "      <th></th>\n",
       "      <th>name</th>\n",
       "      <th>mc_slug</th>\n",
       "      <th>metascore</th>\n",
       "      <th>user_score</th>\n",
       "      <th>date_released</th>\n",
       "      <th>summary</th>\n",
       "      <th>genres</th>\n",
       "      <th>rating</th>\n",
       "      <th>api_id</th>\n",
       "      <th>description</th>\n",
       "    </tr>\n",
       "  </thead>\n",
       "  <tbody>\n",
       "    <tr>\n",
       "      <th>411</th>\n",
       "      <td>Penny Arcade Adventures: Episode Three</td>\n",
       "      <td>penny-arcade-adventures-episode-three</td>\n",
       "      <td>77.0</td>\n",
       "      <td>7.3</td>\n",
       "      <td>Jun 25, 2012</td>\n",
       "      <td>Summary: The Startling Developments Detective ...</td>\n",
       "      <td>{'Console-style RPG', 'General', 'Japanese-Sty...</td>\n",
       "      <td>NaN</td>\n",
       "      <td>41389.0</td>\n",
       "      <td>Penny Arcade Adventures: On the Rain-Slick Pre...</td>\n",
       "    </tr>\n",
       "  </tbody>\n",
       "</table>\n",
       "</div>"
      ],
      "text/plain": [
       "                                       name  \\\n",
       "411  Penny Arcade Adventures: Episode Three   \n",
       "\n",
       "                                   mc_slug  metascore  user_score  \\\n",
       "411  penny-arcade-adventures-episode-three       77.0         7.3   \n",
       "\n",
       "    date_released                                            summary  \\\n",
       "411  Jun 25, 2012  Summary: The Startling Developments Detective ...   \n",
       "\n",
       "                                                genres rating   api_id  \\\n",
       "411  {'Console-style RPG', 'General', 'Japanese-Sty...    NaN  41389.0   \n",
       "\n",
       "                                           description  \n",
       "411  Penny Arcade Adventures: On the Rain-Slick Pre...  "
      ]
     },
     "execution_count": 44,
     "metadata": {},
     "output_type": "execute_result"
    }
   ],
   "source": [
    "games[games['name'].str.contains('Penny')]"
   ]
  },
  {
   "cell_type": "code",
   "execution_count": 45,
   "metadata": {},
   "outputs": [],
   "source": [
    "games.loc[411, 'name'] = \"Penny Arcade's On the Rain-Slick Precipice of Darkness 3\"\n",
    "games.loc[411, 'api_id'] = 3043\n",
    "games.loc[411, 'description'] = get_clean_descrip(3043)"
   ]
  },
  {
   "cell_type": "code",
   "execution_count": 46,
   "metadata": {},
   "outputs": [
    {
     "data": {
      "text/html": [
       "<div>\n",
       "<style scoped>\n",
       "    .dataframe tbody tr th:only-of-type {\n",
       "        vertical-align: middle;\n",
       "    }\n",
       "\n",
       "    .dataframe tbody tr th {\n",
       "        vertical-align: top;\n",
       "    }\n",
       "\n",
       "    .dataframe thead th {\n",
       "        text-align: right;\n",
       "    }\n",
       "</style>\n",
       "<table border=\"1\" class=\"dataframe\">\n",
       "  <thead>\n",
       "    <tr style=\"text-align: right;\">\n",
       "      <th></th>\n",
       "      <th>name</th>\n",
       "      <th>mc_slug</th>\n",
       "      <th>metascore</th>\n",
       "      <th>user_score</th>\n",
       "      <th>date_released</th>\n",
       "      <th>summary</th>\n",
       "      <th>genres</th>\n",
       "      <th>rating</th>\n",
       "      <th>api_id</th>\n",
       "      <th>description</th>\n",
       "    </tr>\n",
       "  </thead>\n",
       "  <tbody>\n",
       "    <tr>\n",
       "      <th>411</th>\n",
       "      <td>Penny Arcade's On the Rain-Slick Precipice of ...</td>\n",
       "      <td>penny-arcade-adventures-episode-three</td>\n",
       "      <td>77.0</td>\n",
       "      <td>7.3</td>\n",
       "      <td>Jun 25, 2012</td>\n",
       "      <td>Summary: The Startling Developments Detective ...</td>\n",
       "      <td>{'Console-style RPG', 'General', 'Japanese-Sty...</td>\n",
       "      <td>NaN</td>\n",
       "      <td>3043.0</td>\n",
       "      <td>Penny Arcade's On the Rain-Slick Precipice of ...</td>\n",
       "    </tr>\n",
       "  </tbody>\n",
       "</table>\n",
       "</div>"
      ],
      "text/plain": [
       "                                                  name  \\\n",
       "411  Penny Arcade's On the Rain-Slick Precipice of ...   \n",
       "\n",
       "                                   mc_slug  metascore  user_score  \\\n",
       "411  penny-arcade-adventures-episode-three       77.0         7.3   \n",
       "\n",
       "    date_released                                            summary  \\\n",
       "411  Jun 25, 2012  Summary: The Startling Developments Detective ...   \n",
       "\n",
       "                                                genres rating  api_id  \\\n",
       "411  {'Console-style RPG', 'General', 'Japanese-Sty...    NaN  3043.0   \n",
       "\n",
       "                                           description  \n",
       "411  Penny Arcade's On the Rain-Slick Precipice of ...  "
      ]
     },
     "execution_count": 46,
     "metadata": {},
     "output_type": "execute_result"
    }
   ],
   "source": [
    "games[games['name'].str.contains('Penny')]"
   ]
  },
  {
   "cell_type": "markdown",
   "metadata": {},
   "source": [
    "## Dropping Obsolete Games\n",
    "\n",
    "A couple of the games have since been shut down and are no longer playable or purchasable. I will be dropping these games since they bring no value to my recommender system."
   ]
  },
  {
   "cell_type": "code",
   "execution_count": 47,
   "metadata": {},
   "outputs": [],
   "source": [
    "# Names of all the games to be dropped\n",
    "names = ['Scourge', 'Master X', 'Settlers History', 'Global Agenda', 'LEGO Universe',\n",
    "         'Crimecraft: Bleedout', 'Need for Speed World', 'All Points Bulletin',\n",
    "         'Elemental: War of Magic', 'Age of Empires Online', 'Battlefield: Play4Free', 'Darkspore',\n",
    "         'Gods & Heroes: Rome Rising', 'Super Monday Night Combat', 'The Secret World',\n",
    "         'War of the Roses', \"Tom Clancy's Ghost Recon Phantoms\", 'Microsoft Flight',\n",
    "         'Law & Order: Legacies', 'Ace of Spades', 'Infestation: Survivor Stories',\n",
    "         'War of the Vikings', 'Metro: Last Light - Faction Pack', 'Magicka: Wizard Wars',\n",
    "         'Infinite Crisis', 'Rise of Incarnates', 'Total War: Arena']"
   ]
  },
  {
   "cell_type": "code",
   "execution_count": 48,
   "metadata": {},
   "outputs": [],
   "source": [
    "# Grab all the games listed above and drop them by their indices\n",
    "games.drop(games[games['name'].str.contains('|'.join(names))].index,\n",
    "           inplace=True)"
   ]
  },
  {
   "cell_type": "code",
   "execution_count": 49,
   "metadata": {},
   "outputs": [],
   "source": [
    "# Drop Forge\n",
    "games.drop(games[games['name'] == 'Forge'].index,\n",
    "           inplace=True)"
   ]
  },
  {
   "cell_type": "markdown",
   "metadata": {},
   "source": [
    "# Save aggregated games as csv"
   ]
  },
  {
   "cell_type": "code",
   "execution_count": 50,
   "metadata": {},
   "outputs": [
    {
     "data": {
      "text/plain": [
       "(2536, 10)"
      ]
     },
     "execution_count": 50,
     "metadata": {},
     "output_type": "execute_result"
    }
   ],
   "source": [
    "games.shape"
   ]
  },
  {
   "cell_type": "code",
   "execution_count": 51,
   "metadata": {},
   "outputs": [],
   "source": [
    "games.to_csv('data/cleaned_games.csv', index=False)"
   ]
  },
  {
   "cell_type": "code",
   "execution_count": null,
   "metadata": {},
   "outputs": [],
   "source": []
  }
 ],
 "metadata": {
  "kernelspec": {
   "display_name": "Python 3",
   "language": "python",
   "name": "python3"
  },
  "language_info": {
   "codemirror_mode": {
    "name": "ipython",
    "version": 3
   },
   "file_extension": ".py",
   "mimetype": "text/x-python",
   "name": "python",
   "nbconvert_exporter": "python",
   "pygments_lexer": "ipython3",
   "version": "3.7.6"
  }
 },
 "nbformat": 4,
 "nbformat_minor": 4
}
